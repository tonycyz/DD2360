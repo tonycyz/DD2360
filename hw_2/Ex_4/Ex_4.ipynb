{
  "nbformat": 4,
  "nbformat_minor": 0,
  "metadata": {
    "colab": {
      "provenance": []
    },
    "kernelspec": {
      "name": "python3",
      "display_name": "Python 3"
    },
    "language_info": {
      "name": "python"
    },
    "accelerator": "GPU",
    "gpuClass": "standard"
  },
  "cells": [
    {
      "cell_type": "code",
      "source": [
        "!nvcc --version\n",
        "!nvidia-smi"
      ],
      "metadata": {
        "colab": {
          "base_uri": "https://localhost:8080/"
        },
        "id": "WoXYJZ-ZLL0m",
        "outputId": "29c699ec-5ba0-4e30-90ca-b87b729a64cd"
      },
      "execution_count": null,
      "outputs": [
        {
          "output_type": "stream",
          "name": "stdout",
          "text": [
            "nvcc: NVIDIA (R) Cuda compiler driver\n",
            "Copyright (c) 2005-2021 NVIDIA Corporation\n",
            "Built on Sun_Feb_14_21:12:58_PST_2021\n",
            "Cuda compilation tools, release 11.2, V11.2.152\n",
            "Build cuda_11.2.r11.2/compiler.29618528_0\n",
            "Sun Dec  4 12:46:50 2022       \n",
            "+-----------------------------------------------------------------------------+\n",
            "| NVIDIA-SMI 460.32.03    Driver Version: 460.32.03    CUDA Version: 11.2     |\n",
            "|-------------------------------+----------------------+----------------------+\n",
            "| GPU  Name        Persistence-M| Bus-Id        Disp.A | Volatile Uncorr. ECC |\n",
            "| Fan  Temp  Perf  Pwr:Usage/Cap|         Memory-Usage | GPU-Util  Compute M. |\n",
            "|                               |                      |               MIG M. |\n",
            "|===============================+======================+======================|\n",
            "|   0  Tesla T4            Off  | 00000000:00:04.0 Off |                    0 |\n",
            "| N/A   55C    P0    28W /  70W |      0MiB / 15109MiB |      0%      Default |\n",
            "|                               |                      |                  N/A |\n",
            "+-------------------------------+----------------------+----------------------+\n",
            "                                                                               \n",
            "+-----------------------------------------------------------------------------+\n",
            "| Processes:                                                                  |\n",
            "|  GPU   GI   CI        PID   Type   Process name                  GPU Memory |\n",
            "|        ID   ID                                                   Usage      |\n",
            "|=============================================================================|\n",
            "|  No running processes found                                                 |\n",
            "+-----------------------------------------------------------------------------+\n"
          ]
        }
      ]
    },
    {
      "cell_type": "code",
      "source": [
        "from google.colab import drive\n",
        "drive.mount('/content/drive')"
      ],
      "metadata": {
        "colab": {
          "base_uri": "https://localhost:8080/"
        },
        "id": "DEHINQTKP6RG",
        "outputId": "68f0dc23-9d29-4e34-f12b-45dfd2a4d357"
      },
      "execution_count": 3,
      "outputs": [
        {
          "output_type": "stream",
          "name": "stdout",
          "text": [
            "Mounted at /content/drive\n"
          ]
        }
      ]
    },
    {
      "cell_type": "code",
      "source": [
        "!ls"
      ],
      "metadata": {
        "colab": {
          "base_uri": "https://localhost:8080/"
        },
        "id": "6Pl8KP0uQFdp",
        "outputId": "1f88b095-869f-4b79-f31a-e3a42d9183ff"
      },
      "execution_count": null,
      "outputs": [
        {
          "output_type": "stream",
          "name": "stdout",
          "text": [
            "drive  sample_data\n"
          ]
        }
      ]
    },
    {
      "cell_type": "code",
      "source": [
        "!ls \"/content/drive/My Drive/\""
      ],
      "metadata": {
        "id": "_qizZP6dQX85",
        "colab": {
          "base_uri": "https://localhost:8080/"
        },
        "outputId": "fcb70508-0358-4e22-d7aa-74058f04fd0c"
      },
      "execution_count": null,
      "outputs": [
        {
          "output_type": "stream",
          "name": "stdout",
          "text": [
            " 20220301_101421.mp4\t\t   'IL2225 Lab'\n",
            "'Colab Notebooks'\t\t   'IL2230 Lab2'\n",
            " CUDA_Colab_bandwidthtest.ipynb    'meeting assignment 1.gdoc'\n",
            "'CUDA Tutorial.ipynb'\t\t   'Research Plan.gslides'\n",
            "'DRRA codes'\t\t\t    录课.zip\n",
            "'Far Field EM SCA_ASHES2020.gdoc'\n"
          ]
        }
      ]
    },
    {
      "cell_type": "code",
      "source": [
        "!ls \"/content/drive/My Drive/Colab Notebooks/rodinia_3.1\""
      ],
      "metadata": {
        "colab": {
          "base_uri": "https://localhost:8080/"
        },
        "id": "7Ns3UCwuQ2jy",
        "outputId": "f8bd7e11-ff2c-4a0f-b6fb-189827cf424f"
      },
      "execution_count": null,
      "outputs": [
        {
          "output_type": "stream",
          "name": "stdout",
          "text": [
            "bin  common  cuda  data  LICENSE  Makefile  opencl  openmp  others  README\n"
          ]
        }
      ]
    },
    {
      "cell_type": "markdown",
      "source": [
        "# b+tree Test"
      ],
      "metadata": {
        "id": "4mP37GwFNMda"
      }
    },
    {
      "cell_type": "code",
      "source": [
        "%cd /content/drive/MyDrive/Colab Notebooks/rodinia_3.1/cuda/b+tree"
      ],
      "metadata": {
        "colab": {
          "base_uri": "https://localhost:8080/"
        },
        "id": "tQjKCwPWRBYM",
        "outputId": "e1bc281c-d157-4543-daa6-b6e74885fe1c"
      },
      "execution_count": null,
      "outputs": [
        {
          "output_type": "stream",
          "name": "stdout",
          "text": [
            "/content/drive/MyDrive/Colab Notebooks/rodinia_3.1/cuda/b+tree\n"
          ]
        }
      ]
    },
    {
      "cell_type": "code",
      "source": [
        "!make clean\n",
        "!make KERNEL_DIM=\"-DRD_WG_SIZE_0=256\""
      ],
      "metadata": {
        "colab": {
          "base_uri": "https://localhost:8080/"
        },
        "id": "DF1gCdMEI0hT",
        "outputId": "83350744-080a-456d-a792-0e3340b1ccb6"
      },
      "execution_count": null,
      "outputs": [
        {
          "output_type": "stream",
          "name": "stdout",
          "text": [
            "rm\t*.o *.out \\\n",
            "\t./kernel/*.o \\\n",
            "\t./util/timer/*.o \\\n",
            "\t./util/num/*.o \\\n",
            "\t./util/cuda/*.o \\\n",
            "                output.txt\n",
            "rm: cannot remove '*.out': No such file or directory\n",
            "rm: cannot remove './kernel/*.o': No such file or directory\n",
            "rm: cannot remove './util/timer/*.o': No such file or directory\n",
            "rm: cannot remove './util/num/*.o': No such file or directory\n",
            "rm: cannot remove './util/cuda/*.o': No such file or directory\n",
            "rm: cannot remove 'output.txt': No such file or directory\n",
            "Makefile:182: recipe for target 'clean' failed\n",
            "make: *** [clean] Error 1\n",
            "gcc\t-DRD_WG_SIZE_0=256 ./main.c \\\n",
            "\t\t-c \\\n",
            "\t\t-o ./main.o \\\n",
            "\t\t-O3\n",
            "\u001b[01m\u001b[K./main.c:\u001b[m\u001b[K In function ‘\u001b[01m\u001b[Ktransform_to_cuda\u001b[m\u001b[K’:\n",
            "\u001b[01m\u001b[K./main.c:652:2:\u001b[m\u001b[K \u001b[01;35m\u001b[Kwarning: \u001b[m\u001b[Kimplicit declaration of function ‘\u001b[01m\u001b[Kgettimeofday\u001b[m\u001b[K’; did you mean ‘\u001b[01m\u001b[Kget_time\u001b[m\u001b[K’? [\u001b[01;35m\u001b[K-Wimplicit-function-declaration\u001b[m\u001b[K]\n",
            "  \u001b[01;35m\u001b[Kgettimeofday\u001b[m\u001b[K (&one, NULL);\n",
            "  \u001b[01;35m\u001b[K^~~~~~~~~~~~\u001b[m\u001b[K\n",
            "  \u001b[32m\u001b[Kget_time\u001b[m\u001b[K\n",
            "\u001b[01m\u001b[K./main.c:737:34:\u001b[m\u001b[K \u001b[01;35m\u001b[Kwarning: \u001b[m\u001b[Kformat ‘\u001b[01m\u001b[K%d\u001b[m\u001b[K’ expects argument of type ‘\u001b[01m\u001b[Kint\u001b[m\u001b[K’, but argument 2 has type ‘\u001b[01m\u001b[Klong int\u001b[m\u001b[K’ [\u001b[01;35m\u001b[K-Wformat=\u001b[m\u001b[K]\n",
            "   printf(\"\\nNumber of records = \u001b[01;35m\u001b[K%d\u001b[m\u001b[K, sizeof(record)=%d, total=%d\\n\",size,sizeof(record),size*sizeof(record));\n",
            "                                 \u001b[01;35m\u001b[K~^\u001b[m\u001b[K\n",
            "                                 \u001b[32m\u001b[K%ld\u001b[m\u001b[K\n",
            "\u001b[01m\u001b[K./main.c:737:53:\u001b[m\u001b[K \u001b[01;35m\u001b[Kwarning: \u001b[m\u001b[Kformat ‘\u001b[01m\u001b[K%d\u001b[m\u001b[K’ expects argument of type ‘\u001b[01m\u001b[Kint\u001b[m\u001b[K’, but argument 3 has type ‘\u001b[01m\u001b[Klong unsigned int\u001b[m\u001b[K’ [\u001b[01;35m\u001b[K-Wformat=\u001b[m\u001b[K]\n",
            "   printf(\"\\nNumber of records = %d, sizeof(record)=\u001b[01;35m\u001b[K%d\u001b[m\u001b[K, total=%d\\n\",size,sizeof(record),size*sizeof(record));\n",
            "                                                    \u001b[01;35m\u001b[K~^\u001b[m\u001b[K\n",
            "                                                    \u001b[32m\u001b[K%ld\u001b[m\u001b[K\n",
            "\u001b[01m\u001b[K./main.c:737:63:\u001b[m\u001b[K \u001b[01;35m\u001b[Kwarning: \u001b[m\u001b[Kformat ‘\u001b[01m\u001b[K%d\u001b[m\u001b[K’ expects argument of type ‘\u001b[01m\u001b[Kint\u001b[m\u001b[K’, but argument 4 has type ‘\u001b[01m\u001b[Klong unsigned int\u001b[m\u001b[K’ [\u001b[01;35m\u001b[K-Wformat=\u001b[m\u001b[K]\n",
            "   printf(\"\\nNumber of records = %d, sizeof(record)=%d, total=\u001b[01;35m\u001b[K%d\u001b[m\u001b[K\\n\",size,sizeof(record),\u001b[32m\u001b[Ksize*sizeof(record)\u001b[m\u001b[K);\n",
            "                                                              \u001b[01;35m\u001b[K~^\u001b[m\u001b[K                        \u001b[32m\u001b[K~~~~~~~~~~~~~~~~~~~\u001b[m\u001b[K\n",
            "                                                              \u001b[32m\u001b[K%ld\u001b[m\u001b[K\n",
            "\u001b[01m\u001b[K./main.c:738:31:\u001b[m\u001b[K \u001b[01;35m\u001b[Kwarning: \u001b[m\u001b[Kformat ‘\u001b[01m\u001b[K%d\u001b[m\u001b[K’ expects argument of type ‘\u001b[01m\u001b[Kint\u001b[m\u001b[K’, but argument 2 has type ‘\u001b[01m\u001b[Klong int\u001b[m\u001b[K’ [\u001b[01;35m\u001b[K-Wformat=\u001b[m\u001b[K]\n",
            "   printf(\"Number of knodes = \u001b[01;35m\u001b[K%d\u001b[m\u001b[K, sizeof(knode)=%d, total=%d\\n\",nodeindex,sizeof(knode),(nodeindex)*sizeof(knode));\n",
            "                              \u001b[01;35m\u001b[K~^\u001b[m\u001b[K\n",
            "                              \u001b[32m\u001b[K%ld\u001b[m\u001b[K\n",
            "\u001b[01m\u001b[K./main.c:738:49:\u001b[m\u001b[K \u001b[01;35m\u001b[Kwarning: \u001b[m\u001b[Kformat ‘\u001b[01m\u001b[K%d\u001b[m\u001b[K’ expects argument of type ‘\u001b[01m\u001b[Kint\u001b[m\u001b[K’, but argument 3 has type ‘\u001b[01m\u001b[Klong unsigned int\u001b[m\u001b[K’ [\u001b[01;35m\u001b[K-Wformat=\u001b[m\u001b[K]\n",
            "   printf(\"Number of knodes = %d, sizeof(knode)=\u001b[01;35m\u001b[K%d\u001b[m\u001b[K, total=%d\\n\",nodeindex,sizeof(knode),(nodeindex)*sizeof(knode));\n",
            "                                                \u001b[01;35m\u001b[K~^\u001b[m\u001b[K\n",
            "                                                \u001b[32m\u001b[K%ld\u001b[m\u001b[K\n",
            "\u001b[01m\u001b[K./main.c:738:59:\u001b[m\u001b[K \u001b[01;35m\u001b[Kwarning: \u001b[m\u001b[Kformat ‘\u001b[01m\u001b[K%d\u001b[m\u001b[K’ expects argument of type ‘\u001b[01m\u001b[Kint\u001b[m\u001b[K’, but argument 4 has type ‘\u001b[01m\u001b[Klong unsigned int\u001b[m\u001b[K’ [\u001b[01;35m\u001b[K-Wformat=\u001b[m\u001b[K]\n",
            "   printf(\"Number of knodes = %d, sizeof(knode)=%d, total=\u001b[01;35m\u001b[K%d\u001b[m\u001b[K\\n\",nodeindex,sizeof(knode),\u001b[32m\u001b[K(nodeindex)*sizeof(knode)\u001b[m\u001b[K);\n",
            "                                                          \u001b[01;35m\u001b[K~^\u001b[m\u001b[K                            \u001b[32m\u001b[K~~~~~~~~~~~~~~~~~~~~~~~~~\u001b[m\u001b[K\n",
            "                                                          \u001b[32m\u001b[K%ld\u001b[m\u001b[K\n",
            "\u001b[01m\u001b[K./main.c:739:45:\u001b[m\u001b[K \u001b[01;35m\u001b[Kwarning: \u001b[m\u001b[Kformat ‘\u001b[01m\u001b[K%d\u001b[m\u001b[K’ expects argument of type ‘\u001b[01m\u001b[Kint\u001b[m\u001b[K’, but argument 2 has type ‘\u001b[01m\u001b[Klong int\u001b[m\u001b[K’ [\u001b[01;35m\u001b[K-Wformat=\u001b[m\u001b[K]\n",
            "   printf(\"\\nDone Transformation. Mem used: \u001b[01;35m\u001b[K%d\u001b[m\u001b[K\\n\", mem_used);\n",
            "                                            \u001b[01;35m\u001b[K~^\u001b[m\u001b[K\n",
            "                                            \u001b[32m\u001b[K%ld\u001b[m\u001b[K\n",
            "\u001b[01m\u001b[K./main.c:\u001b[m\u001b[K In function ‘\u001b[01m\u001b[Kprint_tree\u001b[m\u001b[K’:\n",
            "\u001b[01m\u001b[K./main.c:930:13:\u001b[m\u001b[K \u001b[01;35m\u001b[Kwarning: \u001b[m\u001b[Kformat ‘\u001b[01m\u001b[K%x\u001b[m\u001b[K’ expects argument of type ‘\u001b[01m\u001b[Kunsigned int\u001b[m\u001b[K’, but argument 2 has type ‘\u001b[01m\u001b[Knode * {aka struct node *}\u001b[m\u001b[K’ [\u001b[01;35m\u001b[K-Wformat=\u001b[m\u001b[K]\n",
            "   printf(\"(\u001b[01;35m\u001b[K%x\u001b[m\u001b[K)\", n);\n",
            "            \u001b[01;35m\u001b[K~^\u001b[m\u001b[K\n",
            "\u001b[01m\u001b[K./main.c:933:13:\u001b[m\u001b[K \u001b[01;35m\u001b[Kwarning: \u001b[m\u001b[Kformat ‘\u001b[01m\u001b[K%x\u001b[m\u001b[K’ expects argument of type ‘\u001b[01m\u001b[Kunsigned int\u001b[m\u001b[K’, but argument 2 has type ‘\u001b[01m\u001b[Kvoid *\u001b[m\u001b[K’ [\u001b[01;35m\u001b[K-Wformat=\u001b[m\u001b[K]\n",
            "    printf(\"\u001b[01;35m\u001b[K%x\u001b[m\u001b[K \", \u001b[32m\u001b[Kn->pointers[i]\u001b[m\u001b[K);\n",
            "            \u001b[01;35m\u001b[K~^\u001b[m\u001b[K    \u001b[32m\u001b[K~~~~~~~~~~~~~~\u001b[m\u001b[K\n",
            "            \u001b[32m\u001b[K%p\u001b[m\u001b[K\n",
            "\u001b[01m\u001b[K./main.c:941:13:\u001b[m\u001b[K \u001b[01;35m\u001b[Kwarning: \u001b[m\u001b[Kformat ‘\u001b[01m\u001b[K%x\u001b[m\u001b[K’ expects argument of type ‘\u001b[01m\u001b[Kunsigned int\u001b[m\u001b[K’, but argument 2 has type ‘\u001b[01m\u001b[Kvoid *\u001b[m\u001b[K’ [\u001b[01;35m\u001b[K-Wformat=\u001b[m\u001b[K]\n",
            "    printf(\"\u001b[01;35m\u001b[K%x\u001b[m\u001b[K \", \u001b[32m\u001b[Kn->pointers[order - 1]\u001b[m\u001b[K);\n",
            "            \u001b[01;35m\u001b[K~^\u001b[m\u001b[K    \u001b[32m\u001b[K~~~~~~~~~~~~~~~~~~~~~~\u001b[m\u001b[K\n",
            "            \u001b[32m\u001b[K%p\u001b[m\u001b[K\n",
            "\u001b[01m\u001b[K./main.c:943:13:\u001b[m\u001b[K \u001b[01;35m\u001b[Kwarning: \u001b[m\u001b[Kformat ‘\u001b[01m\u001b[K%x\u001b[m\u001b[K’ expects argument of type ‘\u001b[01m\u001b[Kunsigned int\u001b[m\u001b[K’, but argument 2 has type ‘\u001b[01m\u001b[Kvoid *\u001b[m\u001b[K’ [\u001b[01;35m\u001b[K-Wformat=\u001b[m\u001b[K]\n",
            "    printf(\"\u001b[01;35m\u001b[K%x\u001b[m\u001b[K \", \u001b[32m\u001b[Kn->pointers[n->num_keys]\u001b[m\u001b[K);\n",
            "            \u001b[01;35m\u001b[K~^\u001b[m\u001b[K    \u001b[32m\u001b[K~~~~~~~~~~~~~~~~~~~~~~~~\u001b[m\u001b[K\n",
            "            \u001b[32m\u001b[K%p\u001b[m\u001b[K\n",
            "\u001b[01m\u001b[K./main.c:\u001b[m\u001b[K In function ‘\u001b[01m\u001b[Kmain\u001b[m\u001b[K’:\n",
            "\u001b[01m\u001b[K./main.c:1866:2:\u001b[m\u001b[K \u001b[01;35m\u001b[Kwarning: \u001b[m\u001b[Kimplicit declaration of function ‘\u001b[01m\u001b[KcudaSetDevice\u001b[m\u001b[K’ [\u001b[01;35m\u001b[K-Wimplicit-function-declaration\u001b[m\u001b[K]\n",
            "  \u001b[01;35m\u001b[KcudaSetDevice\u001b[m\u001b[K(device);\n",
            "  \u001b[01;35m\u001b[K^~~~~~~~~~~~~\u001b[m\u001b[K\n",
            "\u001b[01m\u001b[K./main.c:1958:37:\u001b[m\u001b[K \u001b[01;35m\u001b[Kwarning: \u001b[m\u001b[Kpassing argument 2 of ‘\u001b[01m\u001b[Kfputs\u001b[m\u001b[K’ from incompatible pointer type [\u001b[01;35m\u001b[K-Wincompatible-pointer-types\u001b[m\u001b[K]\n",
            "        fputs (\"Fail to open %s !\\n\",\u001b[01;35m\u001b[Koutput\u001b[m\u001b[K);\n",
            "                                     \u001b[01;35m\u001b[K^~~~~~\u001b[m\u001b[K\n",
            "In file included from \u001b[01m\u001b[K./main.c:60:0\u001b[m\u001b[K:\n",
            "\u001b[01m\u001b[K/usr/include/stdio.h:626:12:\u001b[m\u001b[K \u001b[01;36m\u001b[Knote: \u001b[m\u001b[Kexpected ‘\u001b[01m\u001b[KFILE * restrict {aka struct _IO_FILE * restrict}\u001b[m\u001b[K’ but argument is of type ‘\u001b[01m\u001b[Kchar *\u001b[m\u001b[K’\n",
            " extern int \u001b[01;36m\u001b[Kfputs\u001b[m\u001b[K (const char *__restrict __s, FILE *__restrict __stream);\n",
            "            \u001b[01;36m\u001b[K^~~~~\u001b[m\u001b[K\n",
            "\u001b[01m\u001b[K./main.c:2148:48:\u001b[m\u001b[K \u001b[01;35m\u001b[Kwarning: \u001b[m\u001b[Kcomparison between pointer and integer\n",
            "     while(*commandPointer!=32 && commandPointer\u001b[01;35m\u001b[K!=\u001b[m\u001b[K'\\n')\n",
            "                                                \u001b[01;35m\u001b[K^~\u001b[m\u001b[K\n",
            "\u001b[01m\u001b[K./main.c:2224:38:\u001b[m\u001b[K \u001b[01;35m\u001b[Kwarning: \u001b[m\u001b[Kpassing argument 2 of ‘\u001b[01m\u001b[Kfputs\u001b[m\u001b[K’ from incompatible pointer type [\u001b[01;35m\u001b[K-Wincompatible-pointer-types\u001b[m\u001b[K]\n",
            "         fputs (\"Fail to open %s !\\n\",\u001b[01;35m\u001b[Koutput\u001b[m\u001b[K);\n",
            "                                      \u001b[01;35m\u001b[K^~~~~~\u001b[m\u001b[K\n",
            "In file included from \u001b[01m\u001b[K./main.c:60:0\u001b[m\u001b[K:\n",
            "\u001b[01m\u001b[K/usr/include/stdio.h:626:12:\u001b[m\u001b[K \u001b[01;36m\u001b[Knote: \u001b[m\u001b[Kexpected ‘\u001b[01m\u001b[KFILE * restrict {aka struct _IO_FILE * restrict}\u001b[m\u001b[K’ but argument is of type ‘\u001b[01m\u001b[Kchar *\u001b[m\u001b[K’\n",
            " extern int \u001b[01;36m\u001b[Kfputs\u001b[m\u001b[K (const char *__restrict __s, FILE *__restrict __stream);\n",
            "            \u001b[01;36m\u001b[K^~~~~\u001b[m\u001b[K\n",
            "\u001b[01m\u001b[K./main.c:2278:48:\u001b[m\u001b[K \u001b[01;35m\u001b[Kwarning: \u001b[m\u001b[Kcomparison between pointer and integer\n",
            "     while(*commandPointer!=32 && commandPointer\u001b[01;35m\u001b[K!=\u001b[m\u001b[K'\\n')\n",
            "                                                \u001b[01;35m\u001b[K^~\u001b[m\u001b[K\n",
            "\u001b[01m\u001b[K./main.c:2283:48:\u001b[m\u001b[K \u001b[01;35m\u001b[Kwarning: \u001b[m\u001b[Kcomparison between pointer and integer\n",
            "     while(*commandPointer!=32 && commandPointer\u001b[01;35m\u001b[K!=\u001b[m\u001b[K'\\n')\n",
            "                                                \u001b[01;35m\u001b[K^~\u001b[m\u001b[K\n",
            "\u001b[01m\u001b[K./main.c:2371:38:\u001b[m\u001b[K \u001b[01;35m\u001b[Kwarning: \u001b[m\u001b[Kpassing argument 2 of ‘\u001b[01m\u001b[Kfputs\u001b[m\u001b[K’ from incompatible pointer type [\u001b[01;35m\u001b[K-Wincompatible-pointer-types\u001b[m\u001b[K]\n",
            "         fputs (\"Fail to open %s !\\n\",\u001b[01;35m\u001b[Koutput\u001b[m\u001b[K);\n",
            "                                      \u001b[01;35m\u001b[K^~~~~~\u001b[m\u001b[K\n",
            "In file included from \u001b[01m\u001b[K./main.c:60:0\u001b[m\u001b[K:\n",
            "\u001b[01m\u001b[K/usr/include/stdio.h:626:12:\u001b[m\u001b[K \u001b[01;36m\u001b[Knote: \u001b[m\u001b[Kexpected ‘\u001b[01m\u001b[KFILE * restrict {aka struct _IO_FILE * restrict}\u001b[m\u001b[K’ but argument is of type ‘\u001b[01m\u001b[Kchar *\u001b[m\u001b[K’\n",
            " extern int \u001b[01;36m\u001b[Kfputs\u001b[m\u001b[K (const char *__restrict __s, FILE *__restrict __stream);\n",
            "            \u001b[01;36m\u001b[K^~~~~\u001b[m\u001b[K\n",
            "\u001b[01m\u001b[K./main.c:1994:3:\u001b[m\u001b[K \u001b[01;35m\u001b[Kwarning: \u001b[m\u001b[Kignoring return value of ‘\u001b[01m\u001b[Kfscanf\u001b[m\u001b[K’, declared with attribute warn_unused_result [\u001b[01;35m\u001b[K-Wunused-result\u001b[m\u001b[K]\n",
            "   \u001b[01;35m\u001b[Kfscanf(file_pointer, \"%d\\n\", &input)\u001b[m\u001b[K;\n",
            "   \u001b[01;35m\u001b[K^~~~~~~~~~~~~~~~~~~~~~~~~~~~~~~~~~~~\u001b[m\u001b[K\n",
            "\u001b[01m\u001b[K./main.c:1999:4:\u001b[m\u001b[K \u001b[01;35m\u001b[Kwarning: \u001b[m\u001b[Kignoring return value of ‘\u001b[01m\u001b[Kfscanf\u001b[m\u001b[K’, declared with attribute warn_unused_result [\u001b[01;35m\u001b[K-Wunused-result\u001b[m\u001b[K]\n",
            "    \u001b[01;35m\u001b[Kfscanf(file_pointer, \"%d\\n\", &input)\u001b[m\u001b[K;\n",
            "    \u001b[01;35m\u001b[K^~~~~~~~~~~~~~~~~~~~~~~~~~~~~~~~~~~~\u001b[m\u001b[K\n",
            "\u001b[01m\u001b[K./main.c:2039:5:\u001b[m\u001b[K \u001b[01;35m\u001b[Kwarning: \u001b[m\u001b[Kignoring return value of ‘\u001b[01m\u001b[Kscanf\u001b[m\u001b[K’, declared with attribute warn_unused_result [\u001b[01;35m\u001b[K-Wunused-result\u001b[m\u001b[K]\n",
            "     \u001b[01;35m\u001b[Kscanf(\"%d\", &input)\u001b[m\u001b[K;\n",
            "     \u001b[01;35m\u001b[K^~~~~~~~~~~~~~~~~~~\u001b[m\u001b[K\n",
            "\u001b[01m\u001b[K./main.c:2060:5:\u001b[m\u001b[K \u001b[01;35m\u001b[Kwarning: \u001b[m\u001b[Kignoring return value of ‘\u001b[01m\u001b[Kscanf\u001b[m\u001b[K’, declared with attribute warn_unused_result [\u001b[01;35m\u001b[K-Wunused-result\u001b[m\u001b[K]\n",
            "     \u001b[01;35m\u001b[Kscanf(\"%d\", &input)\u001b[m\u001b[K;\n",
            "     \u001b[01;35m\u001b[K^~~~~~~~~~~~~~~~~~~\u001b[m\u001b[K\n",
            "\u001b[01m\u001b[K./main.c:2076:5:\u001b[m\u001b[K \u001b[01;35m\u001b[Kwarning: \u001b[m\u001b[Kignoring return value of ‘\u001b[01m\u001b[Kscanf\u001b[m\u001b[K’, declared with attribute warn_unused_result [\u001b[01;35m\u001b[K-Wunused-result\u001b[m\u001b[K]\n",
            "     \u001b[01;35m\u001b[Kscanf(\"%d\", &input)\u001b[m\u001b[K;\n",
            "     \u001b[01;35m\u001b[K^~~~~~~~~~~~~~~~~~~\u001b[m\u001b[K\n",
            "\u001b[01m\u001b[K./main.c:2252:5:\u001b[m\u001b[K \u001b[01;35m\u001b[Kwarning: \u001b[m\u001b[Kignoring return value of ‘\u001b[01m\u001b[Kscanf\u001b[m\u001b[K’, declared with attribute warn_unused_result [\u001b[01;35m\u001b[K-Wunused-result\u001b[m\u001b[K]\n",
            "     \u001b[01;35m\u001b[Kscanf(\"%d\", &start)\u001b[m\u001b[K;\n",
            "     \u001b[01;35m\u001b[K^~~~~~~~~~~~~~~~~~~\u001b[m\u001b[K\n",
            "\u001b[01m\u001b[K./main.c:2253:5:\u001b[m\u001b[K \u001b[01;35m\u001b[Kwarning: \u001b[m\u001b[Kignoring return value of ‘\u001b[01m\u001b[Kscanf\u001b[m\u001b[K’, declared with attribute warn_unused_result [\u001b[01;35m\u001b[K-Wunused-result\u001b[m\u001b[K]\n",
            "     \u001b[01;35m\u001b[Kscanf(\"%d\", &end)\u001b[m\u001b[K;\n",
            "     \u001b[01;35m\u001b[K^~~~~~~~~~~~~~~~~\u001b[m\u001b[K\n",
            "nvcc -DRD_WG_SIZE_0=256 ./kernel/kernel_gpu_cuda_wrapper.cu \\\n",
            "\t\t\t-c \\\n",
            "\t\t\t-o ./kernel/kernel_gpu_cuda_wrapper.o \\\n",
            "\t\t\t-O3 \\\n",
            "\t\t\t-arch sm_75\n",
            "\u001b[01m\u001b[K./kernel/kernel_gpu_cuda_wrapper.cu:\u001b[m\u001b[K In function ‘\u001b[01m\u001b[Kvoid kernel_gpu_cuda_wrapper(record*, long int, knode*, long int, long int, int, long int, int, long int*, long int*, int*, record*)\u001b[m\u001b[K’:\n",
            "\u001b[01m\u001b[K./kernel/kernel_gpu_cuda_wrapper.cu:78:23:\u001b[m\u001b[K \u001b[01;35m\u001b[Kwarning: \u001b[m\u001b[K‘\u001b[01m\u001b[KcudaError_t cudaThreadSynchronize()\u001b[m\u001b[K’ is deprecated [\u001b[01;35m\u001b[K-Wdeprecated-declarations\u001b[m\u001b[K]\n",
            "  cudaThreadSynchronize\u001b[01;35m\u001b[K(\u001b[m\u001b[K);\n",
            "                       \u001b[01;35m\u001b[K^\u001b[m\u001b[K\n",
            "\u001b[01m\u001b[K/usr/local/cuda/bin/../targets/x86_64-linux/include/cuda_runtime_api.h:1011:46:\u001b[m\u001b[K \u001b[01;36m\u001b[Knote: \u001b[m\u001b[Kdeclared here\n",
            " extern __CUDA_DEPRECATED __host__ cudaError_t\u001b[01;36m\u001b[K CUDARTAPI cudaThread\u001b[m\u001b[KSynchronize(void);\n",
            "                                              \u001b[01;36m\u001b[K^~~~~~~~~~~~~~~~~~~~~\u001b[m\u001b[K\n",
            "\u001b[01m\u001b[K./kernel/kernel_gpu_cuda_wrapper.cu:226:23:\u001b[m\u001b[K \u001b[01;35m\u001b[Kwarning: \u001b[m\u001b[K‘\u001b[01m\u001b[KcudaError_t cudaThreadSynchronize()\u001b[m\u001b[K’ is deprecated [\u001b[01;35m\u001b[K-Wdeprecated-declarations\u001b[m\u001b[K]\n",
            "  cudaThreadSynchronize\u001b[01;35m\u001b[K(\u001b[m\u001b[K);\n",
            "                       \u001b[01;35m\u001b[K^\u001b[m\u001b[K\n",
            "\u001b[01m\u001b[K/usr/local/cuda/bin/../targets/x86_64-linux/include/cuda_runtime_api.h:1011:46:\u001b[m\u001b[K \u001b[01;36m\u001b[Knote: \u001b[m\u001b[Kdeclared here\n",
            " extern __CUDA_DEPRECATED __host__ cudaError_t\u001b[01;36m\u001b[K CUDARTAPI cudaThread\u001b[m\u001b[KSynchronize(void);\n",
            "                                              \u001b[01;36m\u001b[K^~~~~~~~~~~~~~~~~~~~~\u001b[m\u001b[K\n",
            "\u001b[01m\u001b[K./kernel/kernel_gpu_cuda_wrapper.cu:268:165:\u001b[m\u001b[K \u001b[01;35m\u001b[Kwarning: \u001b[m\u001b[Kunknown conversion type character ‘\u001b[01m\u001b[K:\u001b[m\u001b[K’ in format [\u001b[01;35m\u001b[K-Wformat=\u001b[m\u001b[K]\n",
            "  printf(\"%15.12f s, %15.12f % : GPU: SET DEVICE / DRIVER INIT\\n\", (float) (time1-time0) / 1000000, (float) (time1-time0) / (float) (time6-time0) * 100);\n",
            "                                                                                                                                                                     \u001b[01;35m\u001b[K^\u001b[m\u001b[K\n",
            "\u001b[01m\u001b[K./kernel/kernel_gpu_cuda_wrapper.cu:269:148:\u001b[m\u001b[K \u001b[01;35m\u001b[Kwarning: \u001b[m\u001b[Kunknown conversion type character ‘\u001b[01m\u001b[K:\u001b[m\u001b[K’ in format [\u001b[01;35m\u001b[K-Wformat=\u001b[m\u001b[K]\n",
            "  printf(\"%15.12f s, %15.12f % : GPU MEM: ALO\\n\",      (float) (time2-time1) / 1000000, (float) (time2-time1) / (float) (time6-time0) * 100);\n",
            "                                                                                                                                                    \u001b[01;35m\u001b[K^\u001b[m\u001b[K\n",
            "\u001b[01m\u001b[K./kernel/kernel_gpu_cuda_wrapper.cu:270:152:\u001b[m\u001b[K \u001b[01;35m\u001b[Kwarning: \u001b[m\u001b[Kunknown conversion type character ‘\u001b[01m\u001b[K:\u001b[m\u001b[K’ in format [\u001b[01;35m\u001b[K-Wformat=\u001b[m\u001b[K]\n",
            "  printf(\"%15.12f s, %15.12f % : GPU MEM: COPY IN\\n\",     (float) (time3-time2) / 1000000, (float) (time3-time2) / (float) (time6-time0) * 100);\n",
            "                                                                                                                                                        \u001b[01;35m\u001b[K^\u001b[m\u001b[K\n",
            "\u001b[01m\u001b[K./kernel/kernel_gpu_cuda_wrapper.cu:272:147:\u001b[m\u001b[K \u001b[01;35m\u001b[Kwarning: \u001b[m\u001b[Kunknown conversion type character ‘\u001b[01m\u001b[K:\u001b[m\u001b[K’ in format [\u001b[01;35m\u001b[K-Wformat=\u001b[m\u001b[K]\n",
            "  printf(\"%15.12f s, %15.12f % : GPU: KERNEL\\n\",      (float) (time4-time3) / 1000000, (float) (time4-time3) / (float) (time6-time0) * 100);\n",
            "                                                                                                                                                   \u001b[01;35m\u001b[K^\u001b[m\u001b[K\n",
            "\u001b[01m\u001b[K./kernel/kernel_gpu_cuda_wrapper.cu:274:153:\u001b[m\u001b[K \u001b[01;35m\u001b[Kwarning: \u001b[m\u001b[Kunknown conversion type character ‘\u001b[01m\u001b[K:\u001b[m\u001b[K’ in format [\u001b[01;35m\u001b[K-Wformat=\u001b[m\u001b[K]\n",
            "  printf(\"%15.12f s, %15.12f % : GPU MEM: COPY OUT\\n\",    (float) (time5-time4) / 1000000, (float) (time5-time4) / (float) (time6-time0) * 100);\n",
            "                                                                                                                                                         \u001b[01;35m\u001b[K^\u001b[m\u001b[K\n",
            "\u001b[01m\u001b[K./kernel/kernel_gpu_cuda_wrapper.cu:275:148:\u001b[m\u001b[K \u001b[01;35m\u001b[Kwarning: \u001b[m\u001b[Kunknown conversion type character ‘\u001b[01m\u001b[K:\u001b[m\u001b[K’ in format [\u001b[01;35m\u001b[K-Wformat=\u001b[m\u001b[K]\n",
            "  printf(\"%15.12f s, %15.12f % : GPU MEM: FRE\\n\",      (float) (time6-time5) / 1000000, (float) (time6-time5) / (float) (time6-time0) * 100);\n",
            "                                                                                                                                                    \u001b[01;35m\u001b[K^\u001b[m\u001b[K\n",
            "nvcc -DRD_WG_SIZE_0=256 ./kernel/kernel_gpu_cuda_wrapper_2.cu \\\n",
            "\t\t\t-c \\\n",
            "\t\t\t-o ./kernel/kernel_gpu_cuda_wrapper_2.o \\\n",
            "\t\t\t-O3 \\\n",
            "\t\t\t-arch sm_75\n",
            "\u001b[01m\u001b[K./kernel/kernel_gpu_cuda_wrapper_2.cu:\u001b[m\u001b[K In function ‘\u001b[01m\u001b[Kvoid kernel_gpu_cuda_wrapper_2(knode*, long int, long int, int, long int, int, long int*, long int*, long int*, long int*, int*, int*, int*, int*)\u001b[m\u001b[K’:\n",
            "\u001b[01m\u001b[K./kernel/kernel_gpu_cuda_wrapper_2.cu:80:23:\u001b[m\u001b[K \u001b[01;35m\u001b[Kwarning: \u001b[m\u001b[K‘\u001b[01m\u001b[KcudaError_t cudaThreadSynchronize()\u001b[m\u001b[K’ is deprecated [\u001b[01;35m\u001b[K-Wdeprecated-declarations\u001b[m\u001b[K]\n",
            "  cudaThreadSynchronize\u001b[01;35m\u001b[K(\u001b[m\u001b[K);\n",
            "                       \u001b[01;35m\u001b[K^\u001b[m\u001b[K\n",
            "\u001b[01m\u001b[K/usr/local/cuda/bin/../targets/x86_64-linux/include/cuda_runtime_api.h:1011:46:\u001b[m\u001b[K \u001b[01;36m\u001b[Knote: \u001b[m\u001b[Kdeclared here\n",
            " extern __CUDA_DEPRECATED __host__ cudaError_t\u001b[01;36m\u001b[K CUDARTAPI cudaThread\u001b[m\u001b[KSynchronize(void);\n",
            "                                              \u001b[01;36m\u001b[K^~~~~~~~~~~~~~~~~~~~~\u001b[m\u001b[K\n",
            "\u001b[01m\u001b[K./kernel/kernel_gpu_cuda_wrapper_2.cu:275:23:\u001b[m\u001b[K \u001b[01;35m\u001b[Kwarning: \u001b[m\u001b[K‘\u001b[01m\u001b[KcudaError_t cudaThreadSynchronize()\u001b[m\u001b[K’ is deprecated [\u001b[01;35m\u001b[K-Wdeprecated-declarations\u001b[m\u001b[K]\n",
            "  cudaThreadSynchronize\u001b[01;35m\u001b[K(\u001b[m\u001b[K);\n",
            "                       \u001b[01;35m\u001b[K^\u001b[m\u001b[K\n",
            "\u001b[01m\u001b[K/usr/local/cuda/bin/../targets/x86_64-linux/include/cuda_runtime_api.h:1011:46:\u001b[m\u001b[K \u001b[01;36m\u001b[Knote: \u001b[m\u001b[Kdeclared here\n",
            " extern __CUDA_DEPRECATED __host__ cudaError_t\u001b[01;36m\u001b[K CUDARTAPI cudaThread\u001b[m\u001b[KSynchronize(void);\n",
            "                                              \u001b[01;36m\u001b[K^~~~~~~~~~~~~~~~~~~~~\u001b[m\u001b[K\n",
            "\u001b[01m\u001b[K./kernel/kernel_gpu_cuda_wrapper_2.cu:327:165:\u001b[m\u001b[K \u001b[01;35m\u001b[Kwarning: \u001b[m\u001b[Kunknown conversion type character ‘\u001b[01m\u001b[K:\u001b[m\u001b[K’ in format [\u001b[01;35m\u001b[K-Wformat=\u001b[m\u001b[K]\n",
            "  printf(\"%15.12f s, %15.12f % : GPU: SET DEVICE / DRIVER INIT\\n\", (float) (time1-time0) / 1000000, (float) (time1-time0) / (float) (time6-time0) * 100);\n",
            "                                                                                                                                                                     \u001b[01;35m\u001b[K^\u001b[m\u001b[K\n",
            "\u001b[01m\u001b[K./kernel/kernel_gpu_cuda_wrapper_2.cu:328:148:\u001b[m\u001b[K \u001b[01;35m\u001b[Kwarning: \u001b[m\u001b[Kunknown conversion type character ‘\u001b[01m\u001b[K:\u001b[m\u001b[K’ in format [\u001b[01;35m\u001b[K-Wformat=\u001b[m\u001b[K]\n",
            "  printf(\"%15.12f s, %15.12f % : GPU MEM: ALO\\n\",      (float) (time2-time1) / 1000000, (float) (time2-time1) / (float) (time6-time0) * 100);\n",
            "                                                                                                                                                    \u001b[01;35m\u001b[K^\u001b[m\u001b[K\n",
            "\u001b[01m\u001b[K./kernel/kernel_gpu_cuda_wrapper_2.cu:329:152:\u001b[m\u001b[K \u001b[01;35m\u001b[Kwarning: \u001b[m\u001b[Kunknown conversion type character ‘\u001b[01m\u001b[K:\u001b[m\u001b[K’ in format [\u001b[01;35m\u001b[K-Wformat=\u001b[m\u001b[K]\n",
            "  printf(\"%15.12f s, %15.12f % : GPU MEM: COPY IN\\n\",     (float) (time3-time2) / 1000000, (float) (time3-time2) / (float) (time6-time0) * 100);\n",
            "                                                                                                                                                        \u001b[01;35m\u001b[K^\u001b[m\u001b[K\n",
            "\u001b[01m\u001b[K./kernel/kernel_gpu_cuda_wrapper_2.cu:331:147:\u001b[m\u001b[K \u001b[01;35m\u001b[Kwarning: \u001b[m\u001b[Kunknown conversion type character ‘\u001b[01m\u001b[K:\u001b[m\u001b[K’ in format [\u001b[01;35m\u001b[K-Wformat=\u001b[m\u001b[K]\n",
            "  printf(\"%15.12f s, %15.12f % : GPU: KERNEL\\n\",      (float) (time4-time3) / 1000000, (float) (time4-time3) / (float) (time6-time0) * 100);\n",
            "                                                                                                                                                   \u001b[01;35m\u001b[K^\u001b[m\u001b[K\n",
            "\u001b[01m\u001b[K./kernel/kernel_gpu_cuda_wrapper_2.cu:333:153:\u001b[m\u001b[K \u001b[01;35m\u001b[Kwarning: \u001b[m\u001b[Kunknown conversion type character ‘\u001b[01m\u001b[K:\u001b[m\u001b[K’ in format [\u001b[01;35m\u001b[K-Wformat=\u001b[m\u001b[K]\n",
            "  printf(\"%15.12f s, %15.12f % : GPU MEM: COPY OUT\\n\",    (float) (time5-time4) / 1000000, (float) (time5-time4) / (float) (time6-time0) * 100);\n",
            "                                                                                                                                                         \u001b[01;35m\u001b[K^\u001b[m\u001b[K\n",
            "\u001b[01m\u001b[K./kernel/kernel_gpu_cuda_wrapper_2.cu:334:148:\u001b[m\u001b[K \u001b[01;35m\u001b[Kwarning: \u001b[m\u001b[Kunknown conversion type character ‘\u001b[01m\u001b[K:\u001b[m\u001b[K’ in format [\u001b[01;35m\u001b[K-Wformat=\u001b[m\u001b[K]\n",
            "  printf(\"%15.12f s, %15.12f % : GPU MEM: FRE\\n\",      (float) (time6-time5) / 1000000, (float) (time6-time5) / (float) (time6-time0) * 100);\n",
            "                                                                                                                                                    \u001b[01;35m\u001b[K^\u001b[m\u001b[K\n",
            "gcc\t./util/timer/timer.c \\\n",
            "\t\t-c \\\n",
            "\t\t-o ./util/timer/timer.o \\\n",
            "\t\t-O3\n",
            "\u001b[01m\u001b[K./util/timer/timer.c:\u001b[m\u001b[K In function ‘\u001b[01m\u001b[Kget_time\u001b[m\u001b[K’:\n",
            "\u001b[01m\u001b[K./util/timer/timer.c:26:2:\u001b[m\u001b[K \u001b[01;35m\u001b[Kwarning: \u001b[m\u001b[Kimplicit declaration of function ‘\u001b[01m\u001b[Kgettimeofday\u001b[m\u001b[K’; did you mean ‘\u001b[01m\u001b[Kget_time\u001b[m\u001b[K’? [\u001b[01;35m\u001b[K-Wimplicit-function-declaration\u001b[m\u001b[K]\n",
            "  \u001b[01;35m\u001b[Kgettimeofday\u001b[m\u001b[K(&tv, NULL);\n",
            "  \u001b[01;35m\u001b[K^~~~~~~~~~~~\u001b[m\u001b[K\n",
            "  \u001b[32m\u001b[Kget_time\u001b[m\u001b[K\n",
            "gcc\t./util/num/num.c \\\n",
            "\t\t-c \\\n",
            "\t\t-o ./util/num/num.o \\\n",
            "\t\t-O3\n",
            "nvcc\t./util/cuda/cuda.cu \\\n",
            "\t\t\t-c \\\n",
            "\t\t\t-o ./util/cuda/cuda.o \\\n",
            "\t\t\t-O3 \\\n",
            "\t\t\t-arch sm_75\n",
            "gcc\t./main.o \\\n",
            "\t\t./kernel/kernel_gpu_cuda_wrapper.o \\\n",
            "\t\t./kernel/kernel_gpu_cuda_wrapper_2.o \\\n",
            "\t\t./util/timer/timer.o \\\n",
            "\t\t./util/num/num.o \\\n",
            "\t\t./util/cuda/cuda.o \\\n",
            "\t\t-lm \\\n",
            "\t\t-L/usr/local/cuda/lib64 \\\n",
            "\t\t-lcuda -lcudart\\\n",
            "                       -o b+tree.out\n"
          ]
        }
      ]
    },
    {
      "cell_type": "code",
      "source": [
        "!ls\n",
        "!chmod u+x ./run"
      ],
      "metadata": {
        "colab": {
          "base_uri": "https://localhost:8080/"
        },
        "id": "iOSaI7h7hUTI",
        "outputId": "aeb25a63-e564-418a-d595-7db475df199f"
      },
      "execution_count": null,
      "outputs": [
        {
          "output_type": "stream",
          "name": "stdout",
          "text": [
            "b+tree.out  kernel  main.h  Makefile  README  util\n",
            "common.h    main.c  main.o  penmp     run\n"
          ]
        }
      ]
    },
    {
      "cell_type": "code",
      "source": [
        "!./b+tree.out file ../../data/b+tree/mil.txt command ../../data/b+tree/command.txt"
      ],
      "metadata": {
        "colab": {
          "base_uri": "https://localhost:8080/"
        },
        "id": "hXy9ak9TP5Yg",
        "outputId": "6d547d24-b277-467e-a32c-96f7db558ab0"
      },
      "execution_count": null,
      "outputs": [
        {
          "output_type": "stream",
          "name": "stdout",
          "text": [
            "WG size of kernel 1 & 2  = 256 \n",
            "Selecting device 0\n",
            "Input File: ../../data/b+tree/mil.txt \n",
            "Command File: ../../data/b+tree/command.txt \n",
            "Command Buffer: \n",
            "j 6000 3000\n",
            "k 10000\n",
            "\n",
            "\n",
            "-1009Getting input from file ../../data/b+tree/mil.txt...\n",
            "Transforming data to a GPU suitable structure...\n",
            "Tree transformation took 0.093320\n",
            "Waiting for command\n",
            "> \n",
            "******command: j count=6000, rSize=6000 \n",
            "knodes_elem=7874, knodes_unit_mem=2068, knodes_mem=16283432\n",
            "# of blocks = 6000, # of threads/block = 256 (ensure that device can handle)\n",
            "Time spent in different stages of GPU_CUDA KERNEL:\n",
            " 0.104431003332 s, 95.269851684570 % : GPU: SET DEVICE / DRIVER INIT\n",
            " 0.000272000005 s,  0.248138949275 % : GPU MEM: ALO\n",
            " 0.003706000047 s,  3.380893230438 % : GPU MEM: COPY IN\n",
            " 0.000299000007 s,  0.272770375013 % : GPU: KERNEL\n",
            " 0.000039999999 s,  0.036491021514 % : GPU MEM: COPY OUT\n",
            " 0.000867999974 s,  0.791855275631 % : GPU MEM: FRE\n",
            "Total time:\n",
            "0.109615996480 s\n",
            "> > > > > > > > > > > > \n",
            " ******command: k count=10000 \n",
            "records_elem=1000000, records_unit_mem=4, records_mem=4000000\n",
            "knodes_elem=7874, knodes_unit_mem=2068, knodes_mem=16283432\n",
            "# of blocks = 10000, # of threads/block = 256 (ensure that device can handle)\n",
            "Time spent in different stages of GPU_CUDA KERNEL:\n",
            " 0.000021000000 s,  0.326848238707 % : GPU: SET DEVICE / DRIVER INIT\n",
            " 0.000377999997 s,  5.883268833160 % : GPU MEM: ALO\n",
            " 0.004586999770 s, 71.392997741699 % : GPU MEM: COPY IN\n",
            " 0.000360000005 s,  5.603113174438 % : GPU: KERNEL\n",
            " 0.000022000000 s,  0.342412441969 % : GPU MEM: COPY OUT\n",
            " 0.001057000016 s, 16.451362609863 % : GPU MEM: FRE\n",
            "Total time:\n",
            "0.006424999796 s\n",
            "> > > > > > > > > > > > > > > \n"
          ]
        }
      ]
    },
    {
      "cell_type": "code",
      "source": [
        "%cd /content/drive/MyDrive/Colab Notebooks/rodinia_3.1/openmp/b+tree"
      ],
      "metadata": {
        "colab": {
          "base_uri": "https://localhost:8080/"
        },
        "id": "t5eB_h9aQxth",
        "outputId": "08097eb8-6226-4e9d-dfaa-7363ae234b3f"
      },
      "execution_count": null,
      "outputs": [
        {
          "output_type": "stream",
          "name": "stdout",
          "text": [
            "/content/drive/MyDrive/Colab Notebooks/rodinia_3.1/openmp/b+tree\n"
          ]
        }
      ]
    },
    {
      "cell_type": "code",
      "source": [
        "!make clean\n",
        "!make KERNEL_DIM=\"-DRD_WG_SIZE_0=256\""
      ],
      "metadata": {
        "colab": {
          "base_uri": "https://localhost:8080/"
        },
        "id": "SVlBSGLVQ_zL",
        "outputId": "41d87014-adb6-47f4-d5b2-25b36cf75fdb"
      },
      "execution_count": null,
      "outputs": [
        {
          "output_type": "stream",
          "name": "stdout",
          "text": [
            "rm\t*.o *.out \\\n",
            "\t./kernel/*.o \\\n",
            "\t./util/timer/*.o \\\n",
            "\t./util/num/*.o \\\n",
            "                output.txt\n",
            "rm: cannot remove '*.o': No such file or directory\n",
            "rm: cannot remove '*.out': No such file or directory\n",
            "rm: cannot remove './kernel/*.o': No such file or directory\n",
            "rm: cannot remove './util/timer/*.o': No such file or directory\n",
            "rm: cannot remove './util/num/*.o': No such file or directory\n",
            "rm: cannot remove 'output.txt': No such file or directory\n",
            "Makefile:89: recipe for target 'clean' failed\n",
            "make: *** [clean] Error 1\n",
            "gcc\t./main.c \\\n",
            "\t\t-c \\\n",
            "\t\t-o ./main.o \\\n",
            "\t\t-O3\n",
            "\u001b[01m\u001b[K./main.c:\u001b[m\u001b[K In function ‘\u001b[01m\u001b[Ktransform_to_cuda\u001b[m\u001b[K’:\n",
            "\u001b[01m\u001b[K./main.c:652:2:\u001b[m\u001b[K \u001b[01;35m\u001b[Kwarning: \u001b[m\u001b[Kimplicit declaration of function ‘\u001b[01m\u001b[Kgettimeofday\u001b[m\u001b[K’; did you mean ‘\u001b[01m\u001b[Kget_time\u001b[m\u001b[K’? [\u001b[01;35m\u001b[K-Wimplicit-function-declaration\u001b[m\u001b[K]\n",
            "  \u001b[01;35m\u001b[Kgettimeofday\u001b[m\u001b[K (&one, NULL);\n",
            "  \u001b[01;35m\u001b[K^~~~~~~~~~~~\u001b[m\u001b[K\n",
            "  \u001b[32m\u001b[Kget_time\u001b[m\u001b[K\n",
            "\u001b[01m\u001b[K./main.c:737:34:\u001b[m\u001b[K \u001b[01;35m\u001b[Kwarning: \u001b[m\u001b[Kformat ‘\u001b[01m\u001b[K%d\u001b[m\u001b[K’ expects argument of type ‘\u001b[01m\u001b[Kint\u001b[m\u001b[K’, but argument 2 has type ‘\u001b[01m\u001b[Klong int\u001b[m\u001b[K’ [\u001b[01;35m\u001b[K-Wformat=\u001b[m\u001b[K]\n",
            "   printf(\"\\nNumber of records = \u001b[01;35m\u001b[K%d\u001b[m\u001b[K, sizeof(record)=%d, total=%d\\n\",size,sizeof(record),size*sizeof(record));\n",
            "                                 \u001b[01;35m\u001b[K~^\u001b[m\u001b[K\n",
            "                                 \u001b[32m\u001b[K%ld\u001b[m\u001b[K\n",
            "\u001b[01m\u001b[K./main.c:737:53:\u001b[m\u001b[K \u001b[01;35m\u001b[Kwarning: \u001b[m\u001b[Kformat ‘\u001b[01m\u001b[K%d\u001b[m\u001b[K’ expects argument of type ‘\u001b[01m\u001b[Kint\u001b[m\u001b[K’, but argument 3 has type ‘\u001b[01m\u001b[Klong unsigned int\u001b[m\u001b[K’ [\u001b[01;35m\u001b[K-Wformat=\u001b[m\u001b[K]\n",
            "   printf(\"\\nNumber of records = %d, sizeof(record)=\u001b[01;35m\u001b[K%d\u001b[m\u001b[K, total=%d\\n\",size,sizeof(record),size*sizeof(record));\n",
            "                                                    \u001b[01;35m\u001b[K~^\u001b[m\u001b[K\n",
            "                                                    \u001b[32m\u001b[K%ld\u001b[m\u001b[K\n",
            "\u001b[01m\u001b[K./main.c:737:63:\u001b[m\u001b[K \u001b[01;35m\u001b[Kwarning: \u001b[m\u001b[Kformat ‘\u001b[01m\u001b[K%d\u001b[m\u001b[K’ expects argument of type ‘\u001b[01m\u001b[Kint\u001b[m\u001b[K’, but argument 4 has type ‘\u001b[01m\u001b[Klong unsigned int\u001b[m\u001b[K’ [\u001b[01;35m\u001b[K-Wformat=\u001b[m\u001b[K]\n",
            "   printf(\"\\nNumber of records = %d, sizeof(record)=%d, total=\u001b[01;35m\u001b[K%d\u001b[m\u001b[K\\n\",size,sizeof(record),\u001b[32m\u001b[Ksize*sizeof(record)\u001b[m\u001b[K);\n",
            "                                                              \u001b[01;35m\u001b[K~^\u001b[m\u001b[K                        \u001b[32m\u001b[K~~~~~~~~~~~~~~~~~~~\u001b[m\u001b[K\n",
            "                                                              \u001b[32m\u001b[K%ld\u001b[m\u001b[K\n",
            "\u001b[01m\u001b[K./main.c:738:31:\u001b[m\u001b[K \u001b[01;35m\u001b[Kwarning: \u001b[m\u001b[Kformat ‘\u001b[01m\u001b[K%d\u001b[m\u001b[K’ expects argument of type ‘\u001b[01m\u001b[Kint\u001b[m\u001b[K’, but argument 2 has type ‘\u001b[01m\u001b[Klong int\u001b[m\u001b[K’ [\u001b[01;35m\u001b[K-Wformat=\u001b[m\u001b[K]\n",
            "   printf(\"Number of knodes = \u001b[01;35m\u001b[K%d\u001b[m\u001b[K, sizeof(knode)=%d, total=%d\\n\",nodeindex,sizeof(knode),(nodeindex)*sizeof(knode));\n",
            "                              \u001b[01;35m\u001b[K~^\u001b[m\u001b[K\n",
            "                              \u001b[32m\u001b[K%ld\u001b[m\u001b[K\n",
            "\u001b[01m\u001b[K./main.c:738:49:\u001b[m\u001b[K \u001b[01;35m\u001b[Kwarning: \u001b[m\u001b[Kformat ‘\u001b[01m\u001b[K%d\u001b[m\u001b[K’ expects argument of type ‘\u001b[01m\u001b[Kint\u001b[m\u001b[K’, but argument 3 has type ‘\u001b[01m\u001b[Klong unsigned int\u001b[m\u001b[K’ [\u001b[01;35m\u001b[K-Wformat=\u001b[m\u001b[K]\n",
            "   printf(\"Number of knodes = %d, sizeof(knode)=\u001b[01;35m\u001b[K%d\u001b[m\u001b[K, total=%d\\n\",nodeindex,sizeof(knode),(nodeindex)*sizeof(knode));\n",
            "                                                \u001b[01;35m\u001b[K~^\u001b[m\u001b[K\n",
            "                                                \u001b[32m\u001b[K%ld\u001b[m\u001b[K\n",
            "\u001b[01m\u001b[K./main.c:738:59:\u001b[m\u001b[K \u001b[01;35m\u001b[Kwarning: \u001b[m\u001b[Kformat ‘\u001b[01m\u001b[K%d\u001b[m\u001b[K’ expects argument of type ‘\u001b[01m\u001b[Kint\u001b[m\u001b[K’, but argument 4 has type ‘\u001b[01m\u001b[Klong unsigned int\u001b[m\u001b[K’ [\u001b[01;35m\u001b[K-Wformat=\u001b[m\u001b[K]\n",
            "   printf(\"Number of knodes = %d, sizeof(knode)=%d, total=\u001b[01;35m\u001b[K%d\u001b[m\u001b[K\\n\",nodeindex,sizeof(knode),\u001b[32m\u001b[K(nodeindex)*sizeof(knode)\u001b[m\u001b[K);\n",
            "                                                          \u001b[01;35m\u001b[K~^\u001b[m\u001b[K                            \u001b[32m\u001b[K~~~~~~~~~~~~~~~~~~~~~~~~~\u001b[m\u001b[K\n",
            "                                                          \u001b[32m\u001b[K%ld\u001b[m\u001b[K\n",
            "\u001b[01m\u001b[K./main.c:739:45:\u001b[m\u001b[K \u001b[01;35m\u001b[Kwarning: \u001b[m\u001b[Kformat ‘\u001b[01m\u001b[K%d\u001b[m\u001b[K’ expects argument of type ‘\u001b[01m\u001b[Kint\u001b[m\u001b[K’, but argument 2 has type ‘\u001b[01m\u001b[Klong int\u001b[m\u001b[K’ [\u001b[01;35m\u001b[K-Wformat=\u001b[m\u001b[K]\n",
            "   printf(\"\\nDone Transformation. Mem used: \u001b[01;35m\u001b[K%d\u001b[m\u001b[K\\n\", mem_used);\n",
            "                                            \u001b[01;35m\u001b[K~^\u001b[m\u001b[K\n",
            "                                            \u001b[32m\u001b[K%ld\u001b[m\u001b[K\n",
            "\u001b[01m\u001b[K./main.c:\u001b[m\u001b[K In function ‘\u001b[01m\u001b[Kprint_tree\u001b[m\u001b[K’:\n",
            "\u001b[01m\u001b[K./main.c:930:13:\u001b[m\u001b[K \u001b[01;35m\u001b[Kwarning: \u001b[m\u001b[Kformat ‘\u001b[01m\u001b[K%x\u001b[m\u001b[K’ expects argument of type ‘\u001b[01m\u001b[Kunsigned int\u001b[m\u001b[K’, but argument 2 has type ‘\u001b[01m\u001b[Knode * {aka struct node *}\u001b[m\u001b[K’ [\u001b[01;35m\u001b[K-Wformat=\u001b[m\u001b[K]\n",
            "   printf(\"(\u001b[01;35m\u001b[K%x\u001b[m\u001b[K)\", n);\n",
            "            \u001b[01;35m\u001b[K~^\u001b[m\u001b[K\n",
            "\u001b[01m\u001b[K./main.c:933:13:\u001b[m\u001b[K \u001b[01;35m\u001b[Kwarning: \u001b[m\u001b[Kformat ‘\u001b[01m\u001b[K%x\u001b[m\u001b[K’ expects argument of type ‘\u001b[01m\u001b[Kunsigned int\u001b[m\u001b[K’, but argument 2 has type ‘\u001b[01m\u001b[Kvoid *\u001b[m\u001b[K’ [\u001b[01;35m\u001b[K-Wformat=\u001b[m\u001b[K]\n",
            "    printf(\"\u001b[01;35m\u001b[K%x\u001b[m\u001b[K \", \u001b[32m\u001b[Kn->pointers[i]\u001b[m\u001b[K);\n",
            "            \u001b[01;35m\u001b[K~^\u001b[m\u001b[K    \u001b[32m\u001b[K~~~~~~~~~~~~~~\u001b[m\u001b[K\n",
            "            \u001b[32m\u001b[K%p\u001b[m\u001b[K\n",
            "\u001b[01m\u001b[K./main.c:941:13:\u001b[m\u001b[K \u001b[01;35m\u001b[Kwarning: \u001b[m\u001b[Kformat ‘\u001b[01m\u001b[K%x\u001b[m\u001b[K’ expects argument of type ‘\u001b[01m\u001b[Kunsigned int\u001b[m\u001b[K’, but argument 2 has type ‘\u001b[01m\u001b[Kvoid *\u001b[m\u001b[K’ [\u001b[01;35m\u001b[K-Wformat=\u001b[m\u001b[K]\n",
            "    printf(\"\u001b[01;35m\u001b[K%x\u001b[m\u001b[K \", \u001b[32m\u001b[Kn->pointers[order - 1]\u001b[m\u001b[K);\n",
            "            \u001b[01;35m\u001b[K~^\u001b[m\u001b[K    \u001b[32m\u001b[K~~~~~~~~~~~~~~~~~~~~~~\u001b[m\u001b[K\n",
            "            \u001b[32m\u001b[K%p\u001b[m\u001b[K\n",
            "\u001b[01m\u001b[K./main.c:943:13:\u001b[m\u001b[K \u001b[01;35m\u001b[Kwarning: \u001b[m\u001b[Kformat ‘\u001b[01m\u001b[K%x\u001b[m\u001b[K’ expects argument of type ‘\u001b[01m\u001b[Kunsigned int\u001b[m\u001b[K’, but argument 2 has type ‘\u001b[01m\u001b[Kvoid *\u001b[m\u001b[K’ [\u001b[01;35m\u001b[K-Wformat=\u001b[m\u001b[K]\n",
            "    printf(\"\u001b[01;35m\u001b[K%x\u001b[m\u001b[K \", \u001b[32m\u001b[Kn->pointers[n->num_keys]\u001b[m\u001b[K);\n",
            "            \u001b[01;35m\u001b[K~^\u001b[m\u001b[K    \u001b[32m\u001b[K~~~~~~~~~~~~~~~~~~~~~~~~\u001b[m\u001b[K\n",
            "            \u001b[32m\u001b[K%p\u001b[m\u001b[K\n",
            "\u001b[01m\u001b[K./main.c:\u001b[m\u001b[K In function ‘\u001b[01m\u001b[Kmain\u001b[m\u001b[K’:\n",
            "\u001b[01m\u001b[K./main.c:1948:37:\u001b[m\u001b[K \u001b[01;35m\u001b[Kwarning: \u001b[m\u001b[Kpassing argument 2 of ‘\u001b[01m\u001b[Kfputs\u001b[m\u001b[K’ from incompatible pointer type [\u001b[01;35m\u001b[K-Wincompatible-pointer-types\u001b[m\u001b[K]\n",
            "        fputs (\"Fail to open %s !\\n\",\u001b[01;35m\u001b[Koutput\u001b[m\u001b[K);\n",
            "                                     \u001b[01;35m\u001b[K^~~~~~\u001b[m\u001b[K\n",
            "In file included from \u001b[01m\u001b[K./main.c:60:0\u001b[m\u001b[K:\n",
            "\u001b[01m\u001b[K/usr/include/stdio.h:626:12:\u001b[m\u001b[K \u001b[01;36m\u001b[Knote: \u001b[m\u001b[Kexpected ‘\u001b[01m\u001b[KFILE * restrict {aka struct _IO_FILE * restrict}\u001b[m\u001b[K’ but argument is of type ‘\u001b[01m\u001b[Kchar *\u001b[m\u001b[K’\n",
            " extern int \u001b[01;36m\u001b[Kfputs\u001b[m\u001b[K (const char *__restrict __s, FILE *__restrict __stream);\n",
            "            \u001b[01;36m\u001b[K^~~~~\u001b[m\u001b[K\n",
            "\u001b[01m\u001b[K./main.c:2139:48:\u001b[m\u001b[K \u001b[01;35m\u001b[Kwarning: \u001b[m\u001b[Kcomparison between pointer and integer\n",
            "     while(*commandPointer!=32 && commandPointer\u001b[01;35m\u001b[K!=\u001b[m\u001b[K'\\n')\n",
            "                                                \u001b[01;35m\u001b[K^~\u001b[m\u001b[K\n",
            "\u001b[01m\u001b[K./main.c:2218:38:\u001b[m\u001b[K \u001b[01;35m\u001b[Kwarning: \u001b[m\u001b[Kpassing argument 2 of ‘\u001b[01m\u001b[Kfputs\u001b[m\u001b[K’ from incompatible pointer type [\u001b[01;35m\u001b[K-Wincompatible-pointer-types\u001b[m\u001b[K]\n",
            "         fputs (\"Fail to open %s !\\n\",\u001b[01;35m\u001b[Koutput\u001b[m\u001b[K);\n",
            "                                      \u001b[01;35m\u001b[K^~~~~~\u001b[m\u001b[K\n",
            "In file included from \u001b[01m\u001b[K./main.c:60:0\u001b[m\u001b[K:\n",
            "\u001b[01m\u001b[K/usr/include/stdio.h:626:12:\u001b[m\u001b[K \u001b[01;36m\u001b[Knote: \u001b[m\u001b[Kexpected ‘\u001b[01m\u001b[KFILE * restrict {aka struct _IO_FILE * restrict}\u001b[m\u001b[K’ but argument is of type ‘\u001b[01m\u001b[Kchar *\u001b[m\u001b[K’\n",
            " extern int \u001b[01;36m\u001b[Kfputs\u001b[m\u001b[K (const char *__restrict __s, FILE *__restrict __stream);\n",
            "            \u001b[01;36m\u001b[K^~~~~\u001b[m\u001b[K\n",
            "\u001b[01m\u001b[K./main.c:2272:48:\u001b[m\u001b[K \u001b[01;35m\u001b[Kwarning: \u001b[m\u001b[Kcomparison between pointer and integer\n",
            "     while(*commandPointer!=32 && commandPointer\u001b[01;35m\u001b[K!=\u001b[m\u001b[K'\\n')\n",
            "                                                \u001b[01;35m\u001b[K^~\u001b[m\u001b[K\n",
            "\u001b[01m\u001b[K./main.c:2277:48:\u001b[m\u001b[K \u001b[01;35m\u001b[Kwarning: \u001b[m\u001b[Kcomparison between pointer and integer\n",
            "     while(*commandPointer!=32 && commandPointer\u001b[01;35m\u001b[K!=\u001b[m\u001b[K'\\n')\n",
            "                                                \u001b[01;35m\u001b[K^~\u001b[m\u001b[K\n",
            "\u001b[01m\u001b[K./main.c:2374:38:\u001b[m\u001b[K \u001b[01;35m\u001b[Kwarning: \u001b[m\u001b[Kpassing argument 2 of ‘\u001b[01m\u001b[Kfputs\u001b[m\u001b[K’ from incompatible pointer type [\u001b[01;35m\u001b[K-Wincompatible-pointer-types\u001b[m\u001b[K]\n",
            "         fputs (\"Fail to open %s !\\n\",\u001b[01;35m\u001b[Koutput\u001b[m\u001b[K);\n",
            "                                      \u001b[01;35m\u001b[K^~~~~~\u001b[m\u001b[K\n",
            "In file included from \u001b[01m\u001b[K./main.c:60:0\u001b[m\u001b[K:\n",
            "\u001b[01m\u001b[K/usr/include/stdio.h:626:12:\u001b[m\u001b[K \u001b[01;36m\u001b[Knote: \u001b[m\u001b[Kexpected ‘\u001b[01m\u001b[KFILE * restrict {aka struct _IO_FILE * restrict}\u001b[m\u001b[K’ but argument is of type ‘\u001b[01m\u001b[Kchar *\u001b[m\u001b[K’\n",
            " extern int \u001b[01;36m\u001b[Kfputs\u001b[m\u001b[K (const char *__restrict __s, FILE *__restrict __stream);\n",
            "            \u001b[01;36m\u001b[K^~~~~\u001b[m\u001b[K\n",
            "\u001b[01m\u001b[K./main.c:1985:3:\u001b[m\u001b[K \u001b[01;35m\u001b[Kwarning: \u001b[m\u001b[Kignoring return value of ‘\u001b[01m\u001b[Kfscanf\u001b[m\u001b[K’, declared with attribute warn_unused_result [\u001b[01;35m\u001b[K-Wunused-result\u001b[m\u001b[K]\n",
            "   \u001b[01;35m\u001b[Kfscanf(file_pointer, \"%d\\n\", &input)\u001b[m\u001b[K;\n",
            "   \u001b[01;35m\u001b[K^~~~~~~~~~~~~~~~~~~~~~~~~~~~~~~~~~~~\u001b[m\u001b[K\n",
            "\u001b[01m\u001b[K./main.c:1990:4:\u001b[m\u001b[K \u001b[01;35m\u001b[Kwarning: \u001b[m\u001b[Kignoring return value of ‘\u001b[01m\u001b[Kfscanf\u001b[m\u001b[K’, declared with attribute warn_unused_result [\u001b[01;35m\u001b[K-Wunused-result\u001b[m\u001b[K]\n",
            "    \u001b[01;35m\u001b[Kfscanf(file_pointer, \"%d\\n\", &input)\u001b[m\u001b[K;\n",
            "    \u001b[01;35m\u001b[K^~~~~~~~~~~~~~~~~~~~~~~~~~~~~~~~~~~~\u001b[m\u001b[K\n",
            "\u001b[01m\u001b[K./main.c:2030:5:\u001b[m\u001b[K \u001b[01;35m\u001b[Kwarning: \u001b[m\u001b[Kignoring return value of ‘\u001b[01m\u001b[Kscanf\u001b[m\u001b[K’, declared with attribute warn_unused_result [\u001b[01;35m\u001b[K-Wunused-result\u001b[m\u001b[K]\n",
            "     \u001b[01;35m\u001b[Kscanf(\"%d\", &input)\u001b[m\u001b[K;\n",
            "     \u001b[01;35m\u001b[K^~~~~~~~~~~~~~~~~~~\u001b[m\u001b[K\n",
            "\u001b[01m\u001b[K./main.c:2051:5:\u001b[m\u001b[K \u001b[01;35m\u001b[Kwarning: \u001b[m\u001b[Kignoring return value of ‘\u001b[01m\u001b[Kscanf\u001b[m\u001b[K’, declared with attribute warn_unused_result [\u001b[01;35m\u001b[K-Wunused-result\u001b[m\u001b[K]\n",
            "     \u001b[01;35m\u001b[Kscanf(\"%d\", &input)\u001b[m\u001b[K;\n",
            "     \u001b[01;35m\u001b[K^~~~~~~~~~~~~~~~~~~\u001b[m\u001b[K\n",
            "\u001b[01m\u001b[K./main.c:2067:5:\u001b[m\u001b[K \u001b[01;35m\u001b[Kwarning: \u001b[m\u001b[Kignoring return value of ‘\u001b[01m\u001b[Kscanf\u001b[m\u001b[K’, declared with attribute warn_unused_result [\u001b[01;35m\u001b[K-Wunused-result\u001b[m\u001b[K]\n",
            "     \u001b[01;35m\u001b[Kscanf(\"%d\", &input)\u001b[m\u001b[K;\n",
            "     \u001b[01;35m\u001b[K^~~~~~~~~~~~~~~~~~~\u001b[m\u001b[K\n",
            "\u001b[01m\u001b[K./main.c:2246:5:\u001b[m\u001b[K \u001b[01;35m\u001b[Kwarning: \u001b[m\u001b[Kignoring return value of ‘\u001b[01m\u001b[Kscanf\u001b[m\u001b[K’, declared with attribute warn_unused_result [\u001b[01;35m\u001b[K-Wunused-result\u001b[m\u001b[K]\n",
            "     \u001b[01;35m\u001b[Kscanf(\"%d\", &start)\u001b[m\u001b[K;\n",
            "     \u001b[01;35m\u001b[K^~~~~~~~~~~~~~~~~~~\u001b[m\u001b[K\n",
            "\u001b[01m\u001b[K./main.c:2247:5:\u001b[m\u001b[K \u001b[01;35m\u001b[Kwarning: \u001b[m\u001b[Kignoring return value of ‘\u001b[01m\u001b[Kscanf\u001b[m\u001b[K’, declared with attribute warn_unused_result [\u001b[01;35m\u001b[K-Wunused-result\u001b[m\u001b[K]\n",
            "     \u001b[01;35m\u001b[Kscanf(\"%d\", &end)\u001b[m\u001b[K;\n",
            "     \u001b[01;35m\u001b[K^~~~~~~~~~~~~~~~~\u001b[m\u001b[K\n",
            "gcc\t./kernel/kernel_cpu.c \\\n",
            "\t\t-c \\\n",
            "\t\t-o ./kernel/kernel_cpu.o \\\n",
            "\t\t-O3 \\\n",
            "\t\t-fopenmp\n",
            "\u001b[01m\u001b[K./kernel/kernel_cpu.c:\u001b[m\u001b[K In function ‘\u001b[01m\u001b[Kkernel_cpu\u001b[m\u001b[K’:\n",
            "\u001b[01m\u001b[K./kernel/kernel_cpu.c:133:31:\u001b[m\u001b[K \u001b[01;35m\u001b[Kwarning: \u001b[m\u001b[Kunknown conversion type character ‘\u001b[01m\u001b[K:\u001b[m\u001b[K’ in format [\u001b[01;35m\u001b[K-Wformat=\u001b[m\u001b[K]\n",
            "  printf(\"%15.12f s, %15.12f % \u001b[01;35m\u001b[K:\u001b[m\u001b[K MCPU: SET DEVICE\\n\",     (float) (time1-time0) / 1000000, (float) (time1-time0) / (float) (time2-time0) * 100);\n",
            "                               \u001b[01;35m\u001b[K^\u001b[m\u001b[K\n",
            "\u001b[01m\u001b[K./kernel/kernel_cpu.c:134:31:\u001b[m\u001b[K \u001b[01;35m\u001b[Kwarning: \u001b[m\u001b[Kunknown conversion type character ‘\u001b[01m\u001b[K:\u001b[m\u001b[K’ in format [\u001b[01;35m\u001b[K-Wformat=\u001b[m\u001b[K]\n",
            "  printf(\"%15.12f s, %15.12f % \u001b[01;35m\u001b[K:\u001b[m\u001b[K CPU/MCPU: KERNEL\\n\",     (float) (time2-time1) / 1000000, (float) (time2-time1) / (float) (time2-time0) * 100);\n",
            "                               \u001b[01;35m\u001b[K^\u001b[m\u001b[K\n",
            "gcc\t./kernel/kernel_cpu_2.c \\\n",
            "\t\t-c \\\n",
            "\t\t-o ./kernel/kernel_cpu_2.o \\\n",
            "\t\t-O3 \\\n",
            "\t\t-fopenmp\n",
            "\u001b[01m\u001b[K./kernel/kernel_cpu_2.c:\u001b[m\u001b[K In function ‘\u001b[01m\u001b[Kkernel_cpu_2\u001b[m\u001b[K’:\n",
            "\u001b[01m\u001b[K./kernel/kernel_cpu_2.c:158:2:\u001b[m\u001b[K \u001b[01;35m\u001b[Kwarning: \u001b[m\u001b[Kimplicit declaration of function ‘\u001b[01m\u001b[Kprintf\u001b[m\u001b[K’ [\u001b[01;35m\u001b[K-Wimplicit-function-declaration\u001b[m\u001b[K]\n",
            "  \u001b[01;35m\u001b[Kprintf\u001b[m\u001b[K(\"Time spent in different stages of CPU/MCPU KERNEL:\\n\");\n",
            "  \u001b[01;35m\u001b[K^~~~~~\u001b[m\u001b[K\n",
            "\u001b[01m\u001b[K./kernel/kernel_cpu_2.c:158:2:\u001b[m\u001b[K \u001b[01;35m\u001b[Kwarning: \u001b[m\u001b[Kincompatible implicit declaration of built-in function ‘\u001b[01m\u001b[Kprintf\u001b[m\u001b[K’\n",
            "\u001b[01m\u001b[K./kernel/kernel_cpu_2.c:158:2:\u001b[m\u001b[K \u001b[01;36m\u001b[Knote: \u001b[m\u001b[Kinclude ‘\u001b[01m\u001b[K<stdio.h>\u001b[m\u001b[K’ or provide a declaration of ‘\u001b[01m\u001b[Kprintf\u001b[m\u001b[K’\n",
            "\u001b[01m\u001b[K./kernel/kernel_cpu_2.c:160:31:\u001b[m\u001b[K \u001b[01;35m\u001b[Kwarning: \u001b[m\u001b[Kunknown conversion type character ‘\u001b[01m\u001b[K:\u001b[m\u001b[K’ in format [\u001b[01;35m\u001b[K-Wformat=\u001b[m\u001b[K]\n",
            "  printf(\"%15.12f s, %15.12f % \u001b[01;35m\u001b[K:\u001b[m\u001b[K MCPU: SET DEVICE\\n\",     (float) (time1-time0) / 1000000, (float) (time1-time0) / (float) (time2-time0) * 100);\n",
            "                               \u001b[01;35m\u001b[K^\u001b[m\u001b[K\n",
            "\u001b[01m\u001b[K./kernel/kernel_cpu_2.c:161:31:\u001b[m\u001b[K \u001b[01;35m\u001b[Kwarning: \u001b[m\u001b[Kunknown conversion type character ‘\u001b[01m\u001b[K:\u001b[m\u001b[K’ in format [\u001b[01;35m\u001b[K-Wformat=\u001b[m\u001b[K]\n",
            "  printf(\"%15.12f s, %15.12f % \u001b[01;35m\u001b[K:\u001b[m\u001b[K CPU/MCPU: KERNEL\\n\",     (float) (time2-time1) / 1000000, (float) (time2-time1) / (float) (time2-time0) * 100);\n",
            "                               \u001b[01;35m\u001b[K^\u001b[m\u001b[K\n",
            "gcc\t./util/timer/timer.c \\\n",
            "\t\t-c \\\n",
            "\t\t-o ./util/timer/timer.o \\\n",
            "\t\t-O3\n",
            "\u001b[01m\u001b[K./util/timer/timer.c:\u001b[m\u001b[K In function ‘\u001b[01m\u001b[Kget_time\u001b[m\u001b[K’:\n",
            "\u001b[01m\u001b[K./util/timer/timer.c:26:2:\u001b[m\u001b[K \u001b[01;35m\u001b[Kwarning: \u001b[m\u001b[Kimplicit declaration of function ‘\u001b[01m\u001b[Kgettimeofday\u001b[m\u001b[K’; did you mean ‘\u001b[01m\u001b[Kget_time\u001b[m\u001b[K’? [\u001b[01;35m\u001b[K-Wimplicit-function-declaration\u001b[m\u001b[K]\n",
            "  \u001b[01;35m\u001b[Kgettimeofday\u001b[m\u001b[K(&tv, NULL);\n",
            "  \u001b[01;35m\u001b[K^~~~~~~~~~~~\u001b[m\u001b[K\n",
            "  \u001b[32m\u001b[Kget_time\u001b[m\u001b[K\n",
            "gcc\t./util/num/num.c \\\n",
            "\t\t-c \\\n",
            "\t\t-o ./util/num/num.o \\\n",
            "\t\t-O3\n",
            "gcc\t./main.o \\\n",
            "\t\t./kernel/kernel_cpu.o \\\n",
            "\t\t./kernel/kernel_cpu_2.o \\\n",
            "\t\t./util/timer/timer.o \\\n",
            "\t\t./util/num/num.o \\\n",
            "\t\t-lm \\\n",
            "\t\t-lgomp \\\n",
            "                        -o b+tree.out\n"
          ]
        }
      ]
    },
    {
      "cell_type": "code",
      "source": [
        "!./b+tree.out file ../../data/b+tree/mil.txt command ../../data/b+tree/command.txt"
      ],
      "metadata": {
        "colab": {
          "base_uri": "https://localhost:8080/"
        },
        "id": "ILA2WJjIRIqx",
        "outputId": "6da6ed22-e8d0-41a4-9fbc-0387933d7ea4"
      },
      "execution_count": null,
      "outputs": [
        {
          "output_type": "stream",
          "name": "stdout",
          "text": [
            "Input File: ../../data/b+tree/mil.txt \n",
            "Command File: ../../data/b+tree/command.txt \n",
            "Command Buffer: \n",
            "j 6000 3000\n",
            "k 10000\n",
            "\n",
            "\n",
            "Getting input from file file...\n",
            "Transforming data to a GPU suitable structure...\n",
            "Tree transformation took 0.030116\n",
            "Waiting for command\n",
            "> \n",
            "******command: j count=6000, rSize=6000 \n",
            "Time spent in different stages of CPU/MCPU KERNEL:\n",
            " 0.000016000000 s,  0.109912760556 % : MCPU: SET DEVICE\n",
            " 0.014541000128 s, 99.890090942383 % : CPU/MCPU: KERNEL\n",
            "Total time:\n",
            "0.014557000250 s\n",
            "> > > > > > > > > > > > \n",
            " ******command: k count=10000 \n",
            "Time spent in different stages of CPU/MCPU KERNEL:\n",
            " 0.000001000000 s,  0.007016558666 % : MCPU: SET DEVICE\n",
            " 0.014251000248 s, 99.992980957031 % : CPU/MCPU: KERNEL\n",
            "Total time:\n",
            "0.014251999557 s\n",
            "> > > > > > > > > > \n"
          ]
        }
      ]
    },
    {
      "cell_type": "markdown",
      "source": [
        "# Myocyte Test"
      ],
      "metadata": {
        "id": "ZeZ6zO9MRNlR"
      }
    },
    {
      "cell_type": "code",
      "source": [
        "%cd /content/drive/MyDrive/Colab Notebooks/rodinia_3.1/cuda/myocyte"
      ],
      "metadata": {
        "colab": {
          "base_uri": "https://localhost:8080/"
        },
        "id": "Yne6-aA8RRnT",
        "outputId": "6edb4bc1-7e74-4508-89bb-88448ecf80d3"
      },
      "execution_count": null,
      "outputs": [
        {
          "output_type": "stream",
          "name": "stdout",
          "text": [
            "/content/drive/MyDrive/Colab Notebooks/rodinia_3.1/cuda/myocyte\n"
          ]
        }
      ]
    },
    {
      "cell_type": "code",
      "source": [
        "!make clean\n",
        "!make"
      ],
      "metadata": {
        "colab": {
          "base_uri": "https://localhost:8080/"
        },
        "id": "mRTenSXpRgPJ",
        "outputId": "f15121ba-0492-4bf6-9d5f-4af32ec8cd4a"
      },
      "execution_count": null,
      "outputs": [
        {
          "output_type": "stream",
          "name": "stdout",
          "text": [
            "rm *.o *.out output.txt\n",
            "rm: cannot remove 'output.txt': No such file or directory\n",
            "Makefile:43: recipe for target 'clean' failed\n",
            "make: *** [clean] Error 1\n",
            "nvcc\tmain.cu \\\n",
            "\t\t\t-c -O3 -g\n",
            "file.c(108): warning: result of call is not used\n",
            "\n",
            "file.c(116): warning: result of call is not used\n",
            "\n",
            "work.cu(126): warning: conversion from a string literal to \"char *\" is deprecated\n",
            "\n",
            "work.cu(135): warning: conversion from a string literal to \"char *\" is deprecated\n",
            "\n",
            "work_2.cu(171): warning: conversion from a string literal to \"char *\" is deprecated\n",
            "\n",
            "work_2.cu(185): warning: conversion from a string literal to \"char *\" is deprecated\n",
            "\n",
            "file.c(108): warning: result of call is not used\n",
            "\n",
            "file.c(116): warning: result of call is not used\n",
            "\n",
            "work.cu(126): warning: conversion from a string literal to \"char *\" is deprecated\n",
            "\n",
            "work.cu(135): warning: conversion from a string literal to \"char *\" is deprecated\n",
            "\n",
            "work_2.cu(171): warning: conversion from a string literal to \"char *\" is deprecated\n",
            "\n",
            "work_2.cu(185): warning: conversion from a string literal to \"char *\" is deprecated\n",
            "\n",
            "\u001b[01m\u001b[Kwork.cu:\u001b[m\u001b[K In function ‘\u001b[01m\u001b[Kint work(int, int)\u001b[m\u001b[K’:\n",
            "\u001b[01m\u001b[Kwork.cu:234:147:\u001b[m\u001b[K \u001b[01;35m\u001b[Kwarning: \u001b[m\u001b[Kunknown conversion type character ‘\u001b[01m\u001b[K:\u001b[m\u001b[K’ in format [\u001b[01;35m\u001b[K-Wformat=\u001b[m\u001b[K]\n",
            "  printf(\"%.12f s, %.12f % : SETUP VARIABLES\\n\",                (float) (time1-time0) / 1000000, (float) (time1-time0) / (float) (time5-time0) * 10\u001b[01;35m\u001b[K0\u001b[m\u001b[K);\n",
            "                                                                                                                                                   \u001b[01;35m\u001b[K^\u001b[m\u001b[K\n",
            "\u001b[01m\u001b[Kwork.cu:235:166:\u001b[m\u001b[K \u001b[01;35m\u001b[Kwarning: \u001b[m\u001b[Kunknown conversion type character ‘\u001b[01m\u001b[K:\u001b[m\u001b[K’ in format [\u001b[01;35m\u001b[K-Wformat=\u001b[m\u001b[K]\n",
            "  printf(\"%.12f s, %.12f % : ALLOCATE CPU MEMORY AND GPU MEMORY\\n\",     (float) (time2-time1) / 1000000, (float) (time2-time1) / (float) (time5-time0) * 100);\n",
            "                                                                                                                                                                      \u001b[01;35m\u001b[K^\u001b[m\u001b[K\n",
            "\u001b[01m\u001b[Kwork.cu:236:152:\u001b[m\u001b[K \u001b[01;35m\u001b[Kwarning: \u001b[m\u001b[Kunknown conversion type character ‘\u001b[01m\u001b[K:\u001b[m\u001b[K’ in format [\u001b[01;35m\u001b[K-Wformat=\u001b[m\u001b[K]\n",
            "  printf(\"%.12f s, %.12f % : READ DATA FROM FILES\\n\",             (float) (time3-time2) / 1000000, (float) (time3-time2) / (float) (time5-time0) * 100);\n",
            "                                                                                                                                                        \u001b[01;35m\u001b[K^\u001b[m\u001b[K\n",
            "\u001b[01m\u001b[Kwork.cu:237:147:\u001b[m\u001b[K \u001b[01;35m\u001b[Kwarning: \u001b[m\u001b[Kunknown conversion type character ‘\u001b[01m\u001b[K:\u001b[m\u001b[K’ in format [\u001b[01;35m\u001b[K-Wformat=\u001b[m\u001b[K]\n",
            "  printf(\"%.12f s, %.12f % : RUN COMPUTATION\\n\",               (float) (time4-time3) / 1000000, (float) (time4-time3) / (float) (time5-time0) * 100\u001b[01;35m\u001b[K)\u001b[m\u001b[K;\n",
            "                                                                                                                                                   \u001b[01;35m\u001b[K^\u001b[m\u001b[K\n",
            "\u001b[01m\u001b[Kwork.cu:238:143:\u001b[m\u001b[K \u001b[01;35m\u001b[Kwarning: \u001b[m\u001b[Kunknown conversion type character ‘\u001b[01m\u001b[K:\u001b[m\u001b[K’ in format [\u001b[01;35m\u001b[K-Wformat=\u001b[m\u001b[K]\n",
            "  printf(\"%.12f s, %.12f % : FREE MEMORY\\n\",                 (float) (time5-time4) / 1000000, (float) (time5-time4) / (float) (time5-time0) * 1\u001b[01;35m\u001b[K0\u001b[m\u001b[K0);\n",
            "                                                                                                                                               \u001b[01;35m\u001b[K^\u001b[m\u001b[K\n",
            "\u001b[01m\u001b[Kwork_2.cu:\u001b[m\u001b[K In function ‘\u001b[01m\u001b[Kint work_2(int, int)\u001b[m\u001b[K’:\n",
            "\u001b[01m\u001b[Kwork_2.cu:305:147:\u001b[m\u001b[K \u001b[01;35m\u001b[Kwarning: \u001b[m\u001b[Kunknown conversion type character ‘\u001b[01m\u001b[K:\u001b[m\u001b[K’ in format [\u001b[01;35m\u001b[K-Wformat=\u001b[m\u001b[K]\n",
            "  printf(\"%.12f s, %.12f % : SETUP VARIABLES\\n\",                (float) (time1-time0) / 1000000, (float) (time1-time0) / (float) (time6-time0) * 10\u001b[01;35m\u001b[K0\u001b[m\u001b[K);\n",
            "                                                                                                                                                   \u001b[01;35m\u001b[K^\u001b[m\u001b[K\n",
            "\u001b[01m\u001b[Kwork_2.cu:306:166:\u001b[m\u001b[K \u001b[01;35m\u001b[Kwarning: \u001b[m\u001b[Kunknown conversion type character ‘\u001b[01m\u001b[K:\u001b[m\u001b[K’ in format [\u001b[01;35m\u001b[K-Wformat=\u001b[m\u001b[K]\n",
            "  printf(\"%.12f s, %.12f % : ALLOCATE CPU MEMORY AND GPU MEMORY\\n\",     (float) (time2-time1) / 1000000, (float) (time2-time1) / (float) (time6-time0) * 100);\n",
            "                                                                                                                                                                      \u001b[01;35m\u001b[K^\u001b[m\u001b[K\n",
            "\u001b[01m\u001b[Kwork_2.cu:307:172:\u001b[m\u001b[K \u001b[01;35m\u001b[Kwarning: \u001b[m\u001b[Kunknown conversion type character ‘\u001b[01m\u001b[K:\u001b[m\u001b[K’ in format [\u001b[01;35m\u001b[K-Wformat=\u001b[m\u001b[K]\n",
            "  printf(\"%.12f s, %.12f % : READ DATA FROM FILES, COPY TO GPU MEMORY\\n\",   (float) (time3-time2) / 1000000, (float) (time3-time2) / (float) (time6-time0) * 100);\n",
            "                                                                                                                                                                            \u001b[01;35m\u001b[K^\u001b[m\u001b[K\n",
            "\u001b[01m\u001b[Kwork_2.cu:308:146:\u001b[m\u001b[K \u001b[01;35m\u001b[Kwarning: \u001b[m\u001b[Kunknown conversion type character ‘\u001b[01m\u001b[K:\u001b[m\u001b[K’ in format [\u001b[01;35m\u001b[K-Wformat=\u001b[m\u001b[K]\n",
            "  printf(\"%.12f s, %.12f % : RUN GPU KERNEL\\n\",                (float) (time4-time3) / 1000000, (float) (time4-time3) / (float) (time6-time0) * 10\u001b[01;35m\u001b[K0\u001b[m\u001b[K);\n",
            "                                                                                                                                                  \u001b[01;35m\u001b[K^\u001b[m\u001b[K\n",
            "\u001b[01m\u001b[Kwork_2.cu:309:159:\u001b[m\u001b[K \u001b[01;35m\u001b[Kwarning: \u001b[m\u001b[Kunknown conversion type character ‘\u001b[01m\u001b[K:\u001b[m\u001b[K’ in format [\u001b[01;35m\u001b[K-Wformat=\u001b[m\u001b[K]\n",
            "  printf(\"%.12f s, %.12f % : COPY GPU DATA TO CPU MEMORY\\n\",         (float) (time5-time4) / 1000000, (float) (time5-time4) / (float) (time6-time0) * 100);\n",
            "                                                                                                                                                               \u001b[01;35m\u001b[K^\u001b[m\u001b[K\n",
            "\u001b[01m\u001b[Kwork_2.cu:310:143:\u001b[m\u001b[K \u001b[01;35m\u001b[Kwarning: \u001b[m\u001b[Kunknown conversion type character ‘\u001b[01m\u001b[K:\u001b[m\u001b[K’ in format [\u001b[01;35m\u001b[K-Wformat=\u001b[m\u001b[K]\n",
            "  printf(\"%.12f s, %.12f % : FREE MEMORY\\n\",                 (float) (time6-time5) / 1000000, (float) (time6-time5) / (float) (time6-time0) * 1\u001b[01;35m\u001b[K0\u001b[m\u001b[K0);\n",
            "                                                                                                                                               \u001b[01;35m\u001b[K^\u001b[m\u001b[K\n",
            "\u001b[01m\u001b[Kfile.c:\u001b[m\u001b[K In function ‘\u001b[01m\u001b[Kvoid read(char*, float*, int, int, int)\u001b[m\u001b[K’:\n",
            "\u001b[01m\u001b[Kfile.c:108:7:\u001b[m\u001b[K \u001b[01;35m\u001b[Kwarning: \u001b[m\u001b[Kignoring return value of ‘\u001b[01m\u001b[Kint fscanf(FILE*, const char*, ...)\u001b[m\u001b[K’, declared with attribute warn_unused_result [\u001b[01;35m\u001b[K-Wunused-result\u001b[m\u001b[K]\n",
            " \u001b[01;35m\u001b[K    fscanf(fid, \"%f\", &t\u001b[m\u001b[Kemp);\n",
            "     \u001b[01;35m\u001b[K~~^~~~~~~~~~~~~~~~~~\u001b[m\u001b[K\n",
            "\u001b[01m\u001b[Kfile.c:116:7:\u001b[m\u001b[K \u001b[01;35m\u001b[Kwarning: \u001b[m\u001b[Kignoring return value of ‘\u001b[01m\u001b[Kint fscanf(FILE*, const char*, ...)\u001b[m\u001b[K’, declared with attribute warn_unused_result [\u001b[01;35m\u001b[K-Wunused-result\u001b[m\u001b[K]\n",
            " \u001b[01;35m\u001b[K    fscanf(fid, \"%f\", &t\u001b[m\u001b[Kemp);\n",
            "     \u001b[01;35m\u001b[K~~^~~~~~~~~~~~~~~~~~\u001b[m\u001b[K\n",
            "\u001b[01m\u001b[Kwork.cu:\u001b[m\u001b[K In function ‘\u001b[01m\u001b[Kint work(int, int)\u001b[m\u001b[K’:\n",
            "\u001b[01m\u001b[Kwork.cu:172:6:\u001b[m\u001b[K \u001b[01;35m\u001b[Kwarning: \u001b[m\u001b[Kargument 4 null where non-null expected [\u001b[01;35m\u001b[K-Wnonnull\u001b[m\u001b[K]\n",
            " \u001b[01;35m\u001b[K   fputs (\"fopen example\",pFi\u001b[m\u001b[Kle);\n",
            "    \u001b[01;35m\u001b[K~~^~~~~~~~~~~~~~~~~~~~~~~~\u001b[m\u001b[K\n",
            "\u001b[01m\u001b[Kwork.cu:172:6:\u001b[m\u001b[K \u001b[01;36m\u001b[Knote: \u001b[m\u001b[Kin a call to built-in function ‘\u001b[01m\u001b[Klong unsigned int __builtin_fwrite(const void*, size_t, size_t, FILE*)\u001b[m\u001b[K’\n",
            "nvcc\tmain.o \\\n",
            "\t\t\t-I/usr/local/cuda/include \\\n",
            "\t\t\t-L/usr/local/cuda/lib \\\n",
            "\t\t\t-lm -lcuda -lcudart \\\n",
            "                                -o myocyte.out\n"
          ]
        }
      ]
    },
    {
      "cell_type": "code",
      "source": [
        "!./myocyte.out 300 300 1"
      ],
      "metadata": {
        "colab": {
          "base_uri": "https://localhost:8080/"
        },
        "id": "mQj8l2aQRtTt",
        "outputId": "f4172643-df10-42af-d596-ddce28255097"
      },
      "execution_count": null,
      "outputs": [
        {
          "output_type": "stream",
          "name": "stdout",
          "text": [
            "Time spent in different stages of the application:\n",
            "0.000000000000 s, 0.000000000000 % : SETUP VARIABLES\n",
            "0.670647025108 s, 23.302268981934 % : ALLOCATE CPU MEMORY AND GPU MEMORY\n",
            "0.391719013453 s, 13.610651016235 % : READ DATA FROM FILES, COPY TO GPU MEMORY\n",
            "0.000023000001 s, 0.000799156900 % : RUN GPU KERNEL\n",
            "1.813508987427 s, 63.012100219727 % : COPY GPU DATA TO CPU MEMORY\n",
            "0.002134999959 s, 0.074182607234 % : FREE MEMORY\n",
            "Total time:\n",
            "2.878032922745 s\n"
          ]
        }
      ]
    },
    {
      "cell_type": "code",
      "source": [
        "%cd /content/drive/MyDrive/Colab Notebooks/rodinia_3.1/openmp/myocyte"
      ],
      "metadata": {
        "colab": {
          "base_uri": "https://localhost:8080/"
        },
        "id": "2nHvhoiabBkJ",
        "outputId": "908cfb16-c86e-4c6b-83fd-d90a1461f455"
      },
      "execution_count": null,
      "outputs": [
        {
          "output_type": "stream",
          "name": "stdout",
          "text": [
            "/content/drive/MyDrive/Colab Notebooks/rodinia_3.1/openmp/myocyte\n"
          ]
        }
      ]
    },
    {
      "cell_type": "code",
      "source": [
        "!make clean\n",
        "!make"
      ],
      "metadata": {
        "colab": {
          "base_uri": "https://localhost:8080/"
        },
        "id": "4s2IZUXDbFh7",
        "outputId": "8e223e60-5148-4604-da5e-3f4b395627c6"
      },
      "execution_count": null,
      "outputs": [
        {
          "output_type": "stream",
          "name": "stdout",
          "text": [
            "rm *.o myocyte.out output.txt\n",
            "rm: cannot remove 'output.txt': No such file or directory\n",
            "Makefile:32: recipe for target 'clean' failed\n",
            "make: *** [clean] Error 1\n",
            "gcc\tmain.c \\\n",
            "\t\t-c -O3 -fopenmp\n",
            "\u001b[01m\u001b[Kmain.c:\u001b[m\u001b[K In function ‘\u001b[01m\u001b[Kmain\u001b[m\u001b[K’:\n",
            "\u001b[01m\u001b[Kmain.c:175:20:\u001b[m\u001b[K \u001b[01;35m\u001b[Kwarning: \u001b[m\u001b[Kformat ‘\u001b[01m\u001b[K%d\u001b[m\u001b[K’ expects argument of type ‘\u001b[01m\u001b[Kint\u001b[m\u001b[K’, but argument 2 has type ‘\u001b[01m\u001b[Klong int\u001b[m\u001b[K’ [\u001b[01;35m\u001b[K-Wformat=\u001b[m\u001b[K]\n",
            "    printf(\"ERROR: \u001b[01;35m\u001b[K%d\u001b[m\u001b[K is the incorrect end of simulation interval, use numbers > 0\\n\", xmax);\n",
            "                   \u001b[01;35m\u001b[K~^\u001b[m\u001b[K\n",
            "                   \u001b[32m\u001b[K%ld\u001b[m\u001b[K\n",
            "\u001b[01m\u001b[Kmain.c:185:20:\u001b[m\u001b[K \u001b[01;35m\u001b[Kwarning: \u001b[m\u001b[Kformat ‘\u001b[01m\u001b[K%d\u001b[m\u001b[K’ expects argument of type ‘\u001b[01m\u001b[Kint\u001b[m\u001b[K’, but argument 2 has type ‘\u001b[01m\u001b[Klong int\u001b[m\u001b[K’ [\u001b[01;35m\u001b[K-Wformat=\u001b[m\u001b[K]\n",
            "    printf(\"ERROR: \u001b[01;35m\u001b[K%d\u001b[m\u001b[K is the incorrect number of instances of simulation, use numbers > 0\\n\", workload);\n",
            "                   \u001b[01;35m\u001b[K~^\u001b[m\u001b[K\n",
            "                   \u001b[32m\u001b[K%ld\u001b[m\u001b[K\n",
            "\u001b[01m\u001b[Kmain.c:363:27:\u001b[m\u001b[K \u001b[01;35m\u001b[Kwarning: \u001b[m\u001b[Kunknown conversion type character ‘\u001b[01m\u001b[K:\u001b[m\u001b[K’ in format [\u001b[01;35m\u001b[K-Wformat=\u001b[m\u001b[K]\n",
            "  printf(\"%.12f s, %.12f % \u001b[01;35m\u001b[K:\u001b[m\u001b[K SETUP VARIABLES, READ COMMAND LINE ARGUMENTS\\n\",  (float) (time1-time0) / 1000000, (float) (time1-time0) / (float) (time5-time0) * 100);\n",
            "                           \u001b[01;35m\u001b[K^\u001b[m\u001b[K\n",
            "\u001b[01m\u001b[Kmain.c:364:27:\u001b[m\u001b[K \u001b[01;35m\u001b[Kwarning: \u001b[m\u001b[Kunknown conversion type character ‘\u001b[01m\u001b[K:\u001b[m\u001b[K’ in format [\u001b[01;35m\u001b[K-Wformat=\u001b[m\u001b[K]\n",
            "  printf(\"%.12f s, %.12f % \u001b[01;35m\u001b[K:\u001b[m\u001b[K ALLOCATE MEMORY\\n\",               (float) (time2-time1) / 1000000, (float) (time2-time1) / (float) (time5-time0) * 100);\n",
            "                           \u001b[01;35m\u001b[K^\u001b[m\u001b[K\n",
            "\u001b[01m\u001b[Kmain.c:365:27:\u001b[m\u001b[K \u001b[01;35m\u001b[Kwarning: \u001b[m\u001b[Kunknown conversion type character ‘\u001b[01m\u001b[K:\u001b[m\u001b[K’ in format [\u001b[01;35m\u001b[K-Wformat=\u001b[m\u001b[K]\n",
            "  printf(\"%.12f s, %.12f % \u001b[01;35m\u001b[K:\u001b[m\u001b[K READ DATA FROM FILES\\n\",             (float) (time3-time2) / 1000000, (float) (time3-time2) / (float) (time5-time0) * 100);\n",
            "                           \u001b[01;35m\u001b[K^\u001b[m\u001b[K\n",
            "\u001b[01m\u001b[Kmain.c:366:27:\u001b[m\u001b[K \u001b[01;35m\u001b[Kwarning: \u001b[m\u001b[Kunknown conversion type character ‘\u001b[01m\u001b[K:\u001b[m\u001b[K’ in format [\u001b[01;35m\u001b[K-Wformat=\u001b[m\u001b[K]\n",
            "  printf(\"%.12f s, %.12f % \u001b[01;35m\u001b[K:\u001b[m\u001b[K RUN COMPUTATION\\n\",               (float) (time4-time3) / 1000000, (float) (time4-time3) / (float) (time5-time0) * 100);\n",
            "                           \u001b[01;35m\u001b[K^\u001b[m\u001b[K\n",
            "\u001b[01m\u001b[Kmain.c:367:27:\u001b[m\u001b[K \u001b[01;35m\u001b[Kwarning: \u001b[m\u001b[Kunknown conversion type character ‘\u001b[01m\u001b[K:\u001b[m\u001b[K’ in format [\u001b[01;35m\u001b[K-Wformat=\u001b[m\u001b[K]\n",
            "  printf(\"%.12f s, %.12f % \u001b[01;35m\u001b[K:\u001b[m\u001b[K FREE MEMORY\\n\",                 (float) (time5-time4) / 1000000, (float) (time5-time4) / (float) (time5-time0) * 100);\n",
            "                           \u001b[01;35m\u001b[K^\u001b[m\u001b[K\n",
            "In file included from \u001b[01m\u001b[Kmain.c:91:0\u001b[m\u001b[K:\n",
            "\u001b[01m\u001b[Kfile.c:\u001b[m\u001b[K In function ‘\u001b[01m\u001b[Kread\u001b[m\u001b[K’:\n",
            "\u001b[01m\u001b[Kfile.c:109:5:\u001b[m\u001b[K \u001b[01;35m\u001b[Kwarning: \u001b[m\u001b[Kignoring return value of ‘\u001b[01m\u001b[Kfscanf\u001b[m\u001b[K’, declared with attribute warn_unused_result [\u001b[01;35m\u001b[K-Wunused-result\u001b[m\u001b[K]\n",
            "     \u001b[01;35m\u001b[Kfscanf(fid, \"%f\", &temp)\u001b[m\u001b[K;\n",
            "     \u001b[01;35m\u001b[K^~~~~~~~~~~~~~~~~~~~~~~~\u001b[m\u001b[K\n",
            "\u001b[01m\u001b[Kfile.c:117:5:\u001b[m\u001b[K \u001b[01;35m\u001b[Kwarning: \u001b[m\u001b[Kignoring return value of ‘\u001b[01m\u001b[Kfscanf\u001b[m\u001b[K’, declared with attribute warn_unused_result [\u001b[01;35m\u001b[K-Wunused-result\u001b[m\u001b[K]\n",
            "     \u001b[01;35m\u001b[Kfscanf(fid, \"%f\", &temp)\u001b[m\u001b[K;\n",
            "     \u001b[01;35m\u001b[K^~~~~~~~~~~~~~~~~~~~~~~~\u001b[m\u001b[K\n",
            "gcc\tmain.o \\\n",
            "\t\t-lm -fopenmp \\\n",
            "-o myocyte.out\n"
          ]
        }
      ]
    },
    {
      "cell_type": "code",
      "source": [
        "!./myocyte.out 300 300 1 1"
      ],
      "metadata": {
        "colab": {
          "base_uri": "https://localhost:8080/"
        },
        "id": "86jME_vRcgXz",
        "outputId": "111ca621-4d25-4f8a-b2cd-e041188b6ef7"
      },
      "execution_count": null,
      "outputs": [
        {
          "output_type": "stream",
          "name": "stdout",
          "text": [
            "The file was not opened for reading\n",
            "Time spent in different stages of the application:\n",
            "0.000123999998 s, 0.000882678782 % : SETUP VARIABLES, READ COMMAND LINE ARGUMENTS\n",
            "0.017243999988 s, 0.122749306262 % : ALLOCATE MEMORY\n",
            "0.361382991076 s, 2.572460651398 % : READ DATA FROM FILES\n",
            "13.659212112427 s, 97.231430053711 % : RUN COMPUTATION\n",
            "0.010181999765 s, 0.072479315102 % : FREE MEMORY\n",
            "Total time:\n",
            "14.048145294189 s\n"
          ]
        }
      ]
    },
    {
      "cell_type": "markdown",
      "source": [
        "# lavaMDTest"
      ],
      "metadata": {
        "id": "cjZv-IzDd5J3"
      }
    },
    {
      "cell_type": "code",
      "source": [
        "%cd /content/drive/MyDrive/Colab Notebooks/rodinia_3.1/cuda/lavaMD"
      ],
      "metadata": {
        "colab": {
          "base_uri": "https://localhost:8080/"
        },
        "id": "KRJDcbfaeCPY",
        "outputId": "3f9c23d9-eb18-4666-d0bd-64e3a06027aa"
      },
      "execution_count": 9,
      "outputs": [
        {
          "output_type": "stream",
          "name": "stdout",
          "text": [
            "/content/drive/MyDrive/Colab Notebooks/rodinia_3.1/cuda/lavaMD\n"
          ]
        }
      ]
    },
    {
      "cell_type": "code",
      "source": [
        "!make clean\n",
        "!make KERNEL_DIM=\"-DRD_WG_SIZE_0=128\""
      ],
      "metadata": {
        "colab": {
          "base_uri": "https://localhost:8080/"
        },
        "id": "_i6aPVcLfWJt",
        "outputId": "665fa2e1-71d4-4ade-acf4-d1ac7da71d50"
      },
      "execution_count": 10,
      "outputs": [
        {
          "output_type": "stream",
          "name": "stdout",
          "text": [
            "rm\t*.o \\\n",
            "\t./kernel/*.o \\\n",
            "\t./util/num/*.o \\\n",
            "\t./util/timer/*.o \\\n",
            "\t./util/device/*.o \\\n",
            "\tlavaMD\n",
            "gcc\t-DRD_WG_SIZE_0=128  main.c \\\n",
            "\t\t-c \\\n",
            "\t\t-o main.o \\\n",
            "\t\t-O3\n",
            "\u001b[01m\u001b[Kmain.c:\u001b[m\u001b[K In function ‘\u001b[01m\u001b[Kmain\u001b[m\u001b[K’:\n",
            "\u001b[01m\u001b[Kmain.c:95:6:\u001b[m\u001b[K \u001b[01;35m\u001b[Kwarning: \u001b[m\u001b[Kimplicit declaration of function ‘\u001b[01m\u001b[Kstrcmp\u001b[m\u001b[K’ [\u001b[01;35m\u001b[K-Wimplicit-function-declaration\u001b[m\u001b[K]\n",
            "   if(\u001b[01;35m\u001b[Kstrcmp\u001b[m\u001b[K(argv[dim_cpu.cur_arg], \"-boxes1d\")==0){\n",
            "      \u001b[01;35m\u001b[K^~~~~~\u001b[m\u001b[K\n",
            "\u001b[01m\u001b[Kmain.c:228:8:\u001b[m\u001b[K \u001b[01;35m\u001b[Kwarning: \u001b[m\u001b[Kimplicit declaration of function ‘\u001b[01m\u001b[Ktime\u001b[m\u001b[K’; did you mean ‘\u001b[01m\u001b[Ktrue\u001b[m\u001b[K’? [\u001b[01;35m\u001b[K-Wimplicit-function-declaration\u001b[m\u001b[K]\n",
            "  srand(\u001b[01;35m\u001b[Ktime\u001b[m\u001b[K(NULL));\n",
            "        \u001b[01;35m\u001b[K^~~~\u001b[m\u001b[K\n",
            "        \u001b[32m\u001b[Ktrue\u001b[m\u001b[K\n",
            "/usr/local/cuda/bin/nvcc -DRD_WG_SIZE_0=128\t\t\t\t\t\t./kernel/kernel_gpu_cuda_wrapper.cu \\\n",
            "\t\t\t\t\t\t\t\t-c \\\n",
            "\t\t\t\t\t\t\t\t-o ./kernel/kernel_gpu_cuda_wrapper.o \\\n",
            "\t\t\t\t\t\t\t\t-O3 \\\n",
            "\t\t\t\t\t\t\t\t-arch sm_75\n",
            "\u001b[01m\u001b[K./kernel/kernel_gpu_cuda_wrapper.cu:\u001b[m\u001b[K In function ‘\u001b[01m\u001b[Kvoid kernel_gpu_cuda_wrapper(par_str, dim_str, box_str*, FOUR_VECTOR*, double*, FOUR_VECTOR*)\u001b[m\u001b[K’:\n",
            "\u001b[01m\u001b[K./kernel/kernel_gpu_cuda_wrapper.cu:66:23:\u001b[m\u001b[K \u001b[01;35m\u001b[Kwarning: \u001b[m\u001b[K‘\u001b[01m\u001b[KcudaError_t cudaThreadSynchronize()\u001b[m\u001b[K’ is deprecated [\u001b[01;35m\u001b[K-Wdeprecated-declarations\u001b[m\u001b[K]\n",
            "  cudaThreadSynchronize\u001b[01;35m\u001b[K(\u001b[m\u001b[K);\n",
            "                       \u001b[01;35m\u001b[K^\u001b[m\u001b[K\n",
            "\u001b[01m\u001b[K/usr/local/cuda/bin/../targets/x86_64-linux/include/cuda_runtime_api.h:1011:46:\u001b[m\u001b[K \u001b[01;36m\u001b[Knote: \u001b[m\u001b[Kdeclared here\n",
            " extern __CUDA_DEPRECATED __host__ cudaError_t\u001b[01;36m\u001b[K CUDARTAPI cudaThread\u001b[m\u001b[KSynchronize(void);\n",
            "                                              \u001b[01;36m\u001b[K^~~~~~~~~~~~~~~~~~~~~\u001b[m\u001b[K\n",
            "\u001b[01m\u001b[K./kernel/kernel_gpu_cuda_wrapper.cu:196:23:\u001b[m\u001b[K \u001b[01;35m\u001b[Kwarning: \u001b[m\u001b[K‘\u001b[01m\u001b[KcudaError_t cudaThreadSynchronize()\u001b[m\u001b[K’ is deprecated [\u001b[01;35m\u001b[K-Wdeprecated-declarations\u001b[m\u001b[K]\n",
            "  cudaThreadSynchronize\u001b[01;35m\u001b[K(\u001b[m\u001b[K);\n",
            "                       \u001b[01;35m\u001b[K^\u001b[m\u001b[K\n",
            "\u001b[01m\u001b[K/usr/local/cuda/bin/../targets/x86_64-linux/include/cuda_runtime_api.h:1011:46:\u001b[m\u001b[K \u001b[01;36m\u001b[Knote: \u001b[m\u001b[Kdeclared here\n",
            " extern __CUDA_DEPRECATED __host__ cudaError_t\u001b[01;36m\u001b[K CUDARTAPI cudaThread\u001b[m\u001b[KSynchronize(void);\n",
            "                                              \u001b[01;36m\u001b[K^~~~~~~~~~~~~~~~~~~~~\u001b[m\u001b[K\n",
            "\u001b[01m\u001b[K./kernel/kernel_gpu_cuda_wrapper.cu:228:165:\u001b[m\u001b[K \u001b[01;35m\u001b[Kwarning: \u001b[m\u001b[Kunknown conversion type character ‘\u001b[01m\u001b[K:\u001b[m\u001b[K’ in format [\u001b[01;35m\u001b[K-Wformat=\u001b[m\u001b[K]\n",
            "  printf(\"%15.12f s, %15.12f % : GPU: SET DEVICE / DRIVER INIT\\n\", (float) (time1-time0) / 1000000, (float) (time1-time0) / (float) (time6-time0) * 100);\n",
            "                                                                                                                                                                     \u001b[01;35m\u001b[K^\u001b[m\u001b[K\n",
            "\u001b[01m\u001b[K./kernel/kernel_gpu_cuda_wrapper.cu:229:148:\u001b[m\u001b[K \u001b[01;35m\u001b[Kwarning: \u001b[m\u001b[Kunknown conversion type character ‘\u001b[01m\u001b[K:\u001b[m\u001b[K’ in format [\u001b[01;35m\u001b[K-Wformat=\u001b[m\u001b[K]\n",
            "  printf(\"%15.12f s, %15.12f % : GPU MEM: ALO\\n\",      (float) (time2-time1) / 1000000, (float) (time2-time1) / (float) (time6-time0) * 100);\n",
            "                                                                                                                                                    \u001b[01;35m\u001b[K^\u001b[m\u001b[K\n",
            "\u001b[01m\u001b[K./kernel/kernel_gpu_cuda_wrapper.cu:230:152:\u001b[m\u001b[K \u001b[01;35m\u001b[Kwarning: \u001b[m\u001b[Kunknown conversion type character ‘\u001b[01m\u001b[K:\u001b[m\u001b[K’ in format [\u001b[01;35m\u001b[K-Wformat=\u001b[m\u001b[K]\n",
            "  printf(\"%15.12f s, %15.12f % : GPU MEM: COPY IN\\n\",     (float) (time3-time2) / 1000000, (float) (time3-time2) / (float) (time6-time0) * 100);\n",
            "                                                                                                                                                        \u001b[01;35m\u001b[K^\u001b[m\u001b[K\n",
            "\u001b[01m\u001b[K./kernel/kernel_gpu_cuda_wrapper.cu:232:147:\u001b[m\u001b[K \u001b[01;35m\u001b[Kwarning: \u001b[m\u001b[Kunknown conversion type character ‘\u001b[01m\u001b[K:\u001b[m\u001b[K’ in format [\u001b[01;35m\u001b[K-Wformat=\u001b[m\u001b[K]\n",
            "  printf(\"%15.12f s, %15.12f % : GPU: KERNEL\\n\",      (float) (time4-time3) / 1000000, (float) (time4-time3) / (float) (time6-time0) * 100);\n",
            "                                                                                                                                                   \u001b[01;35m\u001b[K^\u001b[m\u001b[K\n",
            "\u001b[01m\u001b[K./kernel/kernel_gpu_cuda_wrapper.cu:234:153:\u001b[m\u001b[K \u001b[01;35m\u001b[Kwarning: \u001b[m\u001b[Kunknown conversion type character ‘\u001b[01m\u001b[K:\u001b[m\u001b[K’ in format [\u001b[01;35m\u001b[K-Wformat=\u001b[m\u001b[K]\n",
            "  printf(\"%15.12f s, %15.12f % : GPU MEM: COPY OUT\\n\",    (float) (time5-time4) / 1000000, (float) (time5-time4) / (float) (time6-time0) * 100);\n",
            "                                                                                                                                                         \u001b[01;35m\u001b[K^\u001b[m\u001b[K\n",
            "\u001b[01m\u001b[K./kernel/kernel_gpu_cuda_wrapper.cu:235:148:\u001b[m\u001b[K \u001b[01;35m\u001b[Kwarning: \u001b[m\u001b[Kunknown conversion type character ‘\u001b[01m\u001b[K:\u001b[m\u001b[K’ in format [\u001b[01;35m\u001b[K-Wformat=\u001b[m\u001b[K]\n",
            "  printf(\"%15.12f s, %15.12f % : GPU MEM: FRE\\n\",      (float) (time6-time5) / 1000000, (float) (time6-time5) / (float) (time6-time0) * 100);\n",
            "                                                                                                                                                    \u001b[01;35m\u001b[K^\u001b[m\u001b[K\n",
            "gcc\t\t\t./util/num/num.c \\\n",
            "\t\t\t\t-c \\\n",
            "\t\t\t\t-o ./util/num/num.o \\\n",
            "\t\t\t\t-O3\n",
            "gcc\t\t\t\t./util/timer/timer.c \\\n",
            "\t\t\t\t\t-c \\\n",
            "\t\t\t\t\t-o ./util/timer/timer.o \\\n",
            "\t\t\t\t\t-O3\n",
            "\u001b[01m\u001b[K./util/timer/timer.c:\u001b[m\u001b[K In function ‘\u001b[01m\u001b[Kget_time\u001b[m\u001b[K’:\n",
            "\u001b[01m\u001b[K./util/timer/timer.c:26:2:\u001b[m\u001b[K \u001b[01;35m\u001b[Kwarning: \u001b[m\u001b[Kimplicit declaration of function ‘\u001b[01m\u001b[Kgettimeofday\u001b[m\u001b[K’; did you mean ‘\u001b[01m\u001b[Kget_time\u001b[m\u001b[K’? [\u001b[01;35m\u001b[K-Wimplicit-function-declaration\u001b[m\u001b[K]\n",
            "  \u001b[01;35m\u001b[Kgettimeofday\u001b[m\u001b[K(&tv, NULL);\n",
            "  \u001b[01;35m\u001b[K^~~~~~~~~~~~\u001b[m\u001b[K\n",
            "  \u001b[32m\u001b[Kget_time\u001b[m\u001b[K\n",
            "/usr/local/cuda/bin/nvcc\t\t\t./util/device/device.cu \\\n",
            "\t\t\t\t\t-c \\\n",
            "\t\t\t\t\t-o ./util/device/device.o \\\n",
            "\t\t\t\t\t-O3\n",
            "gcc\t-DRD_WG_SIZE_0=128 main.o \\\n",
            "\t\t./kernel/kernel_gpu_cuda_wrapper.o \\\n",
            "\t\t./util/num/num.o \\\n",
            "\t\t./util/timer/timer.o \\\n",
            "\t\t./util/device/device.o \\\n",
            "\t\t-lm \\\n",
            "\t\t-L/usr/local/cuda/lib64 \\\n",
            "\t\t-lcuda -lcudart \\\n",
            "\t\t-lgomp \\\n",
            "\t\t-o lavaMD\n"
          ]
        }
      ]
    },
    {
      "cell_type": "code",
      "source": [
        "!./lavaMD -boxes1d 10"
      ],
      "metadata": {
        "colab": {
          "base_uri": "https://localhost:8080/"
        },
        "id": "VguztVTphT0d",
        "outputId": "a7b5299e-0637-4b09-8aaf-6af43dc1244c"
      },
      "execution_count": 12,
      "outputs": [
        {
          "output_type": "stream",
          "name": "stdout",
          "text": [
            "thread block size of kernel = 128 \n",
            "Configuration used: boxes1d = 10\n",
            "Time spent in different stages of GPU_CUDA KERNEL:\n",
            " 0.862603008747 s, 78.042785644531 % : GPU: SET DEVICE / DRIVER INIT\n",
            " 0.000323999993 s,  0.029313441366 % : GPU MEM: ALO\n",
            " 0.001955999993 s,  0.176966324449 % : GPU MEM: COPY IN\n",
            " 0.238991007209 s, 21.622371673584 % : GPU: KERNEL\n",
            " 0.000793999992 s,  0.071836024523 % : GPU MEM: COPY OUT\n",
            " 0.000627000001 s,  0.056726939976 % : GPU MEM: FRE\n",
            "Total time:\n",
            "1.105294942856 s\n"
          ]
        }
      ]
    },
    {
      "cell_type": "code",
      "source": [
        "%cd /content/drive/MyDrive/Colab Notebooks/rodinia_3.1/openmp/lavaMD"
      ],
      "metadata": {
        "colab": {
          "base_uri": "https://localhost:8080/"
        },
        "id": "vxCUN6QChchc",
        "outputId": "04a3ad82-84ab-4274-d9e8-b0ceb7488b68"
      },
      "execution_count": 13,
      "outputs": [
        {
          "output_type": "stream",
          "name": "stdout",
          "text": [
            "/content/drive/MyDrive/Colab Notebooks/rodinia_3.1/openmp/lavaMD\n"
          ]
        }
      ]
    },
    {
      "cell_type": "code",
      "source": [
        "!make clean\n",
        "!make KERNEL_DIM=\"-DRD_WG_SIZE_0=128\""
      ],
      "metadata": {
        "colab": {
          "base_uri": "https://localhost:8080/"
        },
        "id": "cMPJbXTkhhiy",
        "outputId": "a6e6686a-b289-4314-a81e-7afcd91e1f66"
      },
      "execution_count": 14,
      "outputs": [
        {
          "output_type": "stream",
          "name": "stdout",
          "text": [
            "rm\t*.o \\\n",
            "\t./kernel/*.o \\\n",
            "\t./util/num/*.o \\\n",
            "\t./util/timer/*.o \\\n",
            "                ./util/device/*.o \\\n",
            "\tlavaMD\n",
            "rm: cannot remove '*.o': No such file or directory\n",
            "rm: cannot remove './kernel/*.o': No such file or directory\n",
            "rm: cannot remove './util/num/*.o': No such file or directory\n",
            "rm: cannot remove './util/timer/*.o': No such file or directory\n",
            "rm: cannot remove './util/device/*.o': No such file or directory\n",
            "rm: cannot remove 'lavaMD': No such file or directory\n",
            "makefile:67: recipe for target 'clean' failed\n",
            "make: *** [clean] Error 1\n",
            "gcc\t main.c \\\n",
            "\t\t-c \\\n",
            "\t\t-o main.o \\\n",
            "\t\t-O3\n",
            "\u001b[01m\u001b[Kmain.c:\u001b[m\u001b[K In function ‘\u001b[01m\u001b[Kmain\u001b[m\u001b[K’:\n",
            "\u001b[01m\u001b[Kmain.c:95:6:\u001b[m\u001b[K \u001b[01;35m\u001b[Kwarning: \u001b[m\u001b[Kimplicit declaration of function ‘\u001b[01m\u001b[Kstrcmp\u001b[m\u001b[K’ [\u001b[01;35m\u001b[K-Wimplicit-function-declaration\u001b[m\u001b[K]\n",
            "   if(\u001b[01;35m\u001b[Kstrcmp\u001b[m\u001b[K(argv[dim_cpu.cur_arg], \"-cores\")==0){\n",
            "      \u001b[01;35m\u001b[K^~~~~~\u001b[m\u001b[K\n",
            "\u001b[01m\u001b[Kmain.c:253:8:\u001b[m\u001b[K \u001b[01;35m\u001b[Kwarning: \u001b[m\u001b[Kimplicit declaration of function ‘\u001b[01m\u001b[Ktime\u001b[m\u001b[K’; did you mean ‘\u001b[01m\u001b[Ktrue\u001b[m\u001b[K’? [\u001b[01;35m\u001b[K-Wimplicit-function-declaration\u001b[m\u001b[K]\n",
            "  srand(\u001b[01;35m\u001b[Ktime\u001b[m\u001b[K(NULL));\n",
            "        \u001b[01;35m\u001b[K^~~~\u001b[m\u001b[K\n",
            "        \u001b[32m\u001b[Ktrue\u001b[m\u001b[K\n",
            "gcc\t\t\t\t./kernel/kernel_cpu.c \\\n",
            "\t\t\t\t\t-c \\\n",
            "\t\t\t\t\t-o ./kernel/kernel_cpu.o \\\n",
            "\t\t\t\t\t-O3 \\\n",
            "\t\t\t\t\t-fopenmp\n",
            "\u001b[01m\u001b[K./kernel/kernel_cpu.c:\u001b[m\u001b[K In function ‘\u001b[01m\u001b[Kkernel_cpu\u001b[m\u001b[K’:\n",
            "\u001b[01m\u001b[K./kernel/kernel_cpu.c:206:31:\u001b[m\u001b[K \u001b[01;35m\u001b[Kwarning: \u001b[m\u001b[Kunknown conversion type character ‘\u001b[01m\u001b[K:\u001b[m\u001b[K’ in format [\u001b[01;35m\u001b[K-Wformat=\u001b[m\u001b[K]\n",
            "  printf(\"%15.12f s, %15.12f % \u001b[01;35m\u001b[K:\u001b[m\u001b[K CPU/MCPU: VARIABLES\\n\",    (float) (time1-time0) / 1000000, (float) (time1-time0) / (float) (time4-time0) * 100);\n",
            "                               \u001b[01;35m\u001b[K^\u001b[m\u001b[K\n",
            "\u001b[01m\u001b[K./kernel/kernel_cpu.c:207:31:\u001b[m\u001b[K \u001b[01;35m\u001b[Kwarning: \u001b[m\u001b[Kunknown conversion type character ‘\u001b[01m\u001b[K:\u001b[m\u001b[K’ in format [\u001b[01;35m\u001b[K-Wformat=\u001b[m\u001b[K]\n",
            "  printf(\"%15.12f s, %15.12f % \u001b[01;35m\u001b[K:\u001b[m\u001b[K MCPU: SET DEVICE\\n\",     (float) (time2-time1) / 1000000, (float) (time2-time1) / (float) (time4-time0) * 100);\n",
            "                               \u001b[01;35m\u001b[K^\u001b[m\u001b[K\n",
            "\u001b[01m\u001b[K./kernel/kernel_cpu.c:208:31:\u001b[m\u001b[K \u001b[01;35m\u001b[Kwarning: \u001b[m\u001b[Kunknown conversion type character ‘\u001b[01m\u001b[K:\u001b[m\u001b[K’ in format [\u001b[01;35m\u001b[K-Wformat=\u001b[m\u001b[K]\n",
            "  printf(\"%15.12f s, %15.12f % \u001b[01;35m\u001b[K:\u001b[m\u001b[K CPU/MCPU: INPUTS\\n\",     (float) (time3-time2) / 1000000, (float) (time3-time2) / (float) (time4-time0) * 100);\n",
            "                               \u001b[01;35m\u001b[K^\u001b[m\u001b[K\n",
            "\u001b[01m\u001b[K./kernel/kernel_cpu.c:209:31:\u001b[m\u001b[K \u001b[01;35m\u001b[Kwarning: \u001b[m\u001b[Kunknown conversion type character ‘\u001b[01m\u001b[K:\u001b[m\u001b[K’ in format [\u001b[01;35m\u001b[K-Wformat=\u001b[m\u001b[K]\n",
            "  printf(\"%15.12f s, %15.12f % \u001b[01;35m\u001b[K:\u001b[m\u001b[K CPU/MCPU: KERNEL\\n\",     (float) (time4-time3) / 1000000, (float) (time4-time3) / (float) (time4-time0) * 100);\n",
            "                               \u001b[01;35m\u001b[K^\u001b[m\u001b[K\n",
            "gcc\t\t\t./util/num/num.c \\\n",
            "\t\t\t\t-c \\\n",
            "\t\t\t\t-o ./util/num/num.o \\\n",
            "\t\t\t\t-O3\n",
            "gcc\t\t\t\t./util/timer/timer.c \\\n",
            "\t\t\t\t\t-c \\\n",
            "\t\t\t\t\t-o ./util/timer/timer.o \\\n",
            "\t\t\t\t\t-O3\n",
            "\u001b[01m\u001b[K./util/timer/timer.c:\u001b[m\u001b[K In function ‘\u001b[01m\u001b[Kget_time\u001b[m\u001b[K’:\n",
            "\u001b[01m\u001b[K./util/timer/timer.c:26:2:\u001b[m\u001b[K \u001b[01;35m\u001b[Kwarning: \u001b[m\u001b[Kimplicit declaration of function ‘\u001b[01m\u001b[Kgettimeofday\u001b[m\u001b[K’; did you mean ‘\u001b[01m\u001b[Kget_time\u001b[m\u001b[K’? [\u001b[01;35m\u001b[K-Wimplicit-function-declaration\u001b[m\u001b[K]\n",
            "  \u001b[01;35m\u001b[Kgettimeofday\u001b[m\u001b[K(&tv, NULL);\n",
            "  \u001b[01;35m\u001b[K^~~~~~~~~~~~\u001b[m\u001b[K\n",
            "  \u001b[32m\u001b[Kget_time\u001b[m\u001b[K\n",
            "gcc\tmain.o \\\n",
            "\t\t./kernel/kernel_cpu.o \\\n",
            "\t\t./util/num/num.o \\\n",
            "\t\t./util/timer/timer.o \\\n",
            "\t\t-lm \\\n",
            "\t\t-lgomp \\\n",
            "\t\t-o lavaMD\n"
          ]
        }
      ]
    },
    {
      "cell_type": "code",
      "source": [
        "!./lavaMD -cores 4 -boxes1d 10"
      ],
      "metadata": {
        "colab": {
          "base_uri": "https://localhost:8080/"
        },
        "id": "KXiOraQIhrSQ",
        "outputId": "b62d3b5a-7795-4419-afea-4f3cb16df01c"
      },
      "execution_count": 15,
      "outputs": [
        {
          "output_type": "stream",
          "name": "stdout",
          "text": [
            "Configuration used: cores = 4, boxes1d = 10\n",
            "Time spent in different stages of CPU/MCPU KERNEL:\n",
            " 0.000000000000 s,  0.000000000000 % : CPU/MCPU: VARIABLES\n",
            " 0.000023000001 s,  0.000335018616 % : MCPU: SET DEVICE\n",
            " 0.000000000000 s,  0.000000000000 % : CPU/MCPU: INPUTS\n",
            " 6.865266799927 s, 99.999664306641 % : CPU/MCPU: KERNEL\n",
            "Total time:\n",
            "6.865290164948 s\n"
          ]
        }
      ]
    }
  ]
}